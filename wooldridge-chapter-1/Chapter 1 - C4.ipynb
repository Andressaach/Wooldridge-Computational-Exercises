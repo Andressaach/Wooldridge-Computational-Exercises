{
 "cells": [
  {
   "cell_type": "markdown",
   "id": "ef0ddd45",
   "metadata": {},
   "source": [
    "## Import wooldridge library"
   ]
  },
  {
   "cell_type": "code",
   "execution_count": 1,
   "id": "e5cd1adc",
   "metadata": {},
   "outputs": [],
   "source": [
    "import wooldridge as woo"
   ]
  },
  {
   "cell_type": "markdown",
   "id": "2926f0cf",
   "metadata": {},
   "source": [
    "## Load dataset"
   ]
  },
  {
   "cell_type": "code",
   "execution_count": 2,
   "id": "88d6e4f7",
   "metadata": {},
   "outputs": [
    {
     "data": {
      "text/html": [
       "<div>\n",
       "<style scoped>\n",
       "    .dataframe tbody tr th:only-of-type {\n",
       "        vertical-align: middle;\n",
       "    }\n",
       "\n",
       "    .dataframe tbody tr th {\n",
       "        vertical-align: top;\n",
       "    }\n",
       "\n",
       "    .dataframe thead th {\n",
       "        text-align: right;\n",
       "    }\n",
       "</style>\n",
       "<table border=\"1\" class=\"dataframe\">\n",
       "  <thead>\n",
       "    <tr style=\"text-align: right;\">\n",
       "      <th></th>\n",
       "      <th>train</th>\n",
       "      <th>age</th>\n",
       "      <th>educ</th>\n",
       "      <th>black</th>\n",
       "      <th>hisp</th>\n",
       "      <th>married</th>\n",
       "      <th>nodegree</th>\n",
       "      <th>mosinex</th>\n",
       "      <th>re74</th>\n",
       "      <th>re75</th>\n",
       "      <th>re78</th>\n",
       "      <th>unem74</th>\n",
       "      <th>unem75</th>\n",
       "      <th>unem78</th>\n",
       "      <th>lre74</th>\n",
       "      <th>lre75</th>\n",
       "      <th>lre78</th>\n",
       "      <th>agesq</th>\n",
       "      <th>mostrn</th>\n",
       "    </tr>\n",
       "  </thead>\n",
       "  <tbody>\n",
       "    <tr>\n",
       "      <th>0</th>\n",
       "      <td>1</td>\n",
       "      <td>37</td>\n",
       "      <td>11</td>\n",
       "      <td>1</td>\n",
       "      <td>0</td>\n",
       "      <td>1</td>\n",
       "      <td>1</td>\n",
       "      <td>13</td>\n",
       "      <td>0.0</td>\n",
       "      <td>0.0</td>\n",
       "      <td>9.93005</td>\n",
       "      <td>1</td>\n",
       "      <td>1</td>\n",
       "      <td>0</td>\n",
       "      <td>0.0</td>\n",
       "      <td>0.0</td>\n",
       "      <td>2.295566</td>\n",
       "      <td>1369</td>\n",
       "      <td>13</td>\n",
       "    </tr>\n",
       "    <tr>\n",
       "      <th>1</th>\n",
       "      <td>1</td>\n",
       "      <td>22</td>\n",
       "      <td>9</td>\n",
       "      <td>0</td>\n",
       "      <td>1</td>\n",
       "      <td>0</td>\n",
       "      <td>1</td>\n",
       "      <td>13</td>\n",
       "      <td>0.0</td>\n",
       "      <td>0.0</td>\n",
       "      <td>3.59589</td>\n",
       "      <td>1</td>\n",
       "      <td>1</td>\n",
       "      <td>0</td>\n",
       "      <td>0.0</td>\n",
       "      <td>0.0</td>\n",
       "      <td>1.279792</td>\n",
       "      <td>484</td>\n",
       "      <td>13</td>\n",
       "    </tr>\n",
       "    <tr>\n",
       "      <th>2</th>\n",
       "      <td>1</td>\n",
       "      <td>30</td>\n",
       "      <td>12</td>\n",
       "      <td>1</td>\n",
       "      <td>0</td>\n",
       "      <td>0</td>\n",
       "      <td>0</td>\n",
       "      <td>13</td>\n",
       "      <td>0.0</td>\n",
       "      <td>0.0</td>\n",
       "      <td>24.90950</td>\n",
       "      <td>1</td>\n",
       "      <td>1</td>\n",
       "      <td>0</td>\n",
       "      <td>0.0</td>\n",
       "      <td>0.0</td>\n",
       "      <td>3.215249</td>\n",
       "      <td>900</td>\n",
       "      <td>13</td>\n",
       "    </tr>\n",
       "    <tr>\n",
       "      <th>3</th>\n",
       "      <td>1</td>\n",
       "      <td>27</td>\n",
       "      <td>11</td>\n",
       "      <td>1</td>\n",
       "      <td>0</td>\n",
       "      <td>0</td>\n",
       "      <td>1</td>\n",
       "      <td>13</td>\n",
       "      <td>0.0</td>\n",
       "      <td>0.0</td>\n",
       "      <td>7.50615</td>\n",
       "      <td>1</td>\n",
       "      <td>1</td>\n",
       "      <td>0</td>\n",
       "      <td>0.0</td>\n",
       "      <td>0.0</td>\n",
       "      <td>2.015723</td>\n",
       "      <td>729</td>\n",
       "      <td>13</td>\n",
       "    </tr>\n",
       "    <tr>\n",
       "      <th>4</th>\n",
       "      <td>1</td>\n",
       "      <td>33</td>\n",
       "      <td>8</td>\n",
       "      <td>1</td>\n",
       "      <td>0</td>\n",
       "      <td>0</td>\n",
       "      <td>1</td>\n",
       "      <td>13</td>\n",
       "      <td>0.0</td>\n",
       "      <td>0.0</td>\n",
       "      <td>0.28979</td>\n",
       "      <td>1</td>\n",
       "      <td>1</td>\n",
       "      <td>0</td>\n",
       "      <td>0.0</td>\n",
       "      <td>0.0</td>\n",
       "      <td>-1.238599</td>\n",
       "      <td>1089</td>\n",
       "      <td>13</td>\n",
       "    </tr>\n",
       "  </tbody>\n",
       "</table>\n",
       "</div>"
      ],
      "text/plain": [
       "   train  age  educ  black  hisp  married  nodegree  mosinex  re74  re75  \\\n",
       "0      1   37    11      1     0        1         1       13   0.0   0.0   \n",
       "1      1   22     9      0     1        0         1       13   0.0   0.0   \n",
       "2      1   30    12      1     0        0         0       13   0.0   0.0   \n",
       "3      1   27    11      1     0        0         1       13   0.0   0.0   \n",
       "4      1   33     8      1     0        0         1       13   0.0   0.0   \n",
       "\n",
       "       re78  unem74  unem75  unem78  lre74  lre75     lre78  agesq  mostrn  \n",
       "0   9.93005       1       1       0    0.0    0.0  2.295566   1369      13  \n",
       "1   3.59589       1       1       0    0.0    0.0  1.279792    484      13  \n",
       "2  24.90950       1       1       0    0.0    0.0  3.215249    900      13  \n",
       "3   7.50615       1       1       0    0.0    0.0  2.015723    729      13  \n",
       "4   0.28979       1       1       0    0.0    0.0 -1.238599   1089      13  "
      ]
     },
     "execution_count": 2,
     "metadata": {},
     "output_type": "execute_result"
    }
   ],
   "source": [
    "df = woo.data(\"jtrain2\")\n",
    "df.head()"
   ]
  },
  {
   "cell_type": "markdown",
   "id": "28d4549c",
   "metadata": {},
   "source": [
    "## (i) use an indicator variable $train$ to determine the proportion of men who received vocational training"
   ]
  },
  {
   "cell_type": "code",
   "execution_count": 3,
   "id": "2cc59048",
   "metadata": {},
   "outputs": [
    {
     "name": "stdout",
     "output_type": "stream",
     "text": [
      "Proportion of men who received job training: 0.4157\n"
     ]
    }
   ],
   "source": [
    "# Sum of train (number of men who received training)\n",
    "# Divided by total number of observations\n",
    "proportion_train = df['train'].sum() / len(df)\n",
    "\n",
    "print(f\"Proportion of men who received job training: {proportion_train:.4f}\")"
   ]
  },
  {
   "cell_type": "markdown",
   "id": "5cfa6655",
   "metadata": {},
   "source": [
    "## (ii) The variable $re78$ represents 1978 earnings, measured in thousands of 1982 dollars. Find the means of $re78$ for a sample of men who received vocational training and for those who did not. Is the difference economically large?"
   ]
  },
  {
   "cell_type": "code",
   "execution_count": 4,
   "id": "d763dbaa",
   "metadata": {},
   "outputs": [
    {
     "name": "stdout",
     "output_type": "stream",
     "text": [
      "Average earnings in 1978 (in thousands of 1982 dollars):\n",
      "train\n",
      "0    4.554802\n",
      "1    6.349145\n",
      "Name: re78, dtype: float64\n",
      "\n",
      "Difference (trained - not trained): 1.79\n"
     ]
    }
   ],
   "source": [
    "# Mean earnings in 1978 for trained and not trained men\n",
    "mean_re78 = df.groupby('train')['re78'].mean()\n",
    "\n",
    "# Calculate the difference\n",
    "diff = mean_re78[1] - mean_re78[0]\n",
    "\n",
    "print(\"Average earnings in 1978 (in thousands of 1982 dollars):\")\n",
    "print(mean_re78)\n",
    "print(f\"\\nDifference (trained - not trained): {diff:.2f}\")"
   ]
  },
  {
   "cell_type": "markdown",
   "id": "a30ab04f",
   "metadata": {},
   "source": [
    "Men who received training in 1978 earned an average of $1,790 more (in 1982 dollars) than those who did not.\n",
    "\n",
    "This difference represents almost 40% of the average wage of those without training (1.79/4.55 ≈ 0.39).\n",
    "\n",
    "Conclusion: The difference is economically significant"
   ]
  },
  {
   "cell_type": "markdown",
   "id": "81e8bbdb",
   "metadata": {},
   "source": [
    "## (iii) The variable $unem78$ is an indicator of whether a man was unemployed or not in 1978. What proportion of men who received vocational training are unemployed? And among those who did not receive training? Comment on the difference.\n"
   ]
  },
  {
   "cell_type": "code",
   "execution_count": 5,
   "id": "490d433c",
   "metadata": {},
   "outputs": [
    {
     "name": "stdout",
     "output_type": "stream",
     "text": [
      "Proportion unemployed in 1978:\n",
      "train\n",
      "0    0.353846\n",
      "1    0.243243\n",
      "Name: unem78, dtype: float64\n",
      "\n",
      "Difference (trained - not trained): -0.1106\n"
     ]
    }
   ],
   "source": [
    "# Calculate unemployment proportions by training status\n",
    "unem_proportions = df.groupby('train')['unem78'].mean()\n",
    "\n",
    "print(\"Proportion unemployed in 1978:\")\n",
    "print(unem_proportions)\n",
    "\n",
    "# Difference between trained and not trained\n",
    "diff_unem = unem_proportions[1] - unem_proportions[0]\n",
    "print(f\"\\nDifference (trained - not trained): {diff_unem:.4f}\")"
   ]
  },
  {
   "cell_type": "markdown",
   "id": "b44f7a06",
   "metadata": {},
   "source": [
    "The difference of 11 percentage points is economically relevant, indicating that those who were trained had a lower risk of unemployment."
   ]
  },
  {
   "cell_type": "markdown",
   "id": "cfca6fd6",
   "metadata": {},
   "source": [
    "## (iv) From items (ii) and (iii), does the professional training program appear to have been effective? What would make your conclusions more convincing?"
   ]
  },
  {
   "cell_type": "markdown",
   "id": "dac1d756",
   "metadata": {},
   "source": [
    "(ii) Average earnings in 1978:\n",
    "- Trained: US 6,350\n",
    "- Untrained: US 4,550\n",
    "- Difference: + US 1,790 → ~40% increase\n",
    "\n",
    "(iii) Unemployment rate in 1978:\n",
    "- Trained: 24.3%\n",
    "- Untrained: 35.4%\n",
    "- Difference: -11 percentage points\n",
    "\n",
    "The figures strongly suggest that vocational training may have increased wages and reduced unemployment.\n",
    "\n",
    "But without correcting for selection bias and without checking statistical significance, we cannot say that the effect is causal."
   ]
  }
 ],
 "metadata": {
  "kernelspec": {
   "display_name": "Python 3 (ipykernel)",
   "language": "python",
   "name": "python3"
  },
  "language_info": {
   "codemirror_mode": {
    "name": "ipython",
    "version": 3
   },
   "file_extension": ".py",
   "mimetype": "text/x-python",
   "name": "python",
   "nbconvert_exporter": "python",
   "pygments_lexer": "ipython3",
   "version": "3.11.5"
  }
 },
 "nbformat": 4,
 "nbformat_minor": 5
}
