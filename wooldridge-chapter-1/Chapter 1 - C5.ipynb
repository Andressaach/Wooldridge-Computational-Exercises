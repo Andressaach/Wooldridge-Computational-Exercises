{
 "cells": [
  {
   "cell_type": "markdown",
   "id": "ef0ddd45",
   "metadata": {},
   "source": [
    "## Import wooldridge library"
   ]
  },
  {
   "cell_type": "code",
   "execution_count": 2,
   "id": "e5cd1adc",
   "metadata": {},
   "outputs": [],
   "source": [
    "import wooldridge as woo"
   ]
  },
  {
   "cell_type": "markdown",
   "id": "2926f0cf",
   "metadata": {},
   "source": [
    "## Load dataset"
   ]
  },
  {
   "cell_type": "code",
   "execution_count": 3,
   "id": "458cdce5",
   "metadata": {},
   "outputs": [
    {
     "data": {
      "text/html": [
       "<div>\n",
       "<style scoped>\n",
       "    .dataframe tbody tr th:only-of-type {\n",
       "        vertical-align: middle;\n",
       "    }\n",
       "\n",
       "    .dataframe tbody tr th {\n",
       "        vertical-align: top;\n",
       "    }\n",
       "\n",
       "    .dataframe thead th {\n",
       "        text-align: right;\n",
       "    }\n",
       "</style>\n",
       "<table border=\"1\" class=\"dataframe\">\n",
       "  <thead>\n",
       "    <tr style=\"text-align: right;\">\n",
       "      <th></th>\n",
       "      <th>mnthborn</th>\n",
       "      <th>yearborn</th>\n",
       "      <th>age</th>\n",
       "      <th>electric</th>\n",
       "      <th>radio</th>\n",
       "      <th>tv</th>\n",
       "      <th>bicycle</th>\n",
       "      <th>educ</th>\n",
       "      <th>ceb</th>\n",
       "      <th>agefbrth</th>\n",
       "      <th>...</th>\n",
       "      <th>heduc</th>\n",
       "      <th>agesq</th>\n",
       "      <th>urban</th>\n",
       "      <th>urb_educ</th>\n",
       "      <th>spirit</th>\n",
       "      <th>protest</th>\n",
       "      <th>catholic</th>\n",
       "      <th>frsthalf</th>\n",
       "      <th>educ0</th>\n",
       "      <th>evermarr</th>\n",
       "    </tr>\n",
       "  </thead>\n",
       "  <tbody>\n",
       "    <tr>\n",
       "      <th>0</th>\n",
       "      <td>5</td>\n",
       "      <td>64</td>\n",
       "      <td>24</td>\n",
       "      <td>1.0</td>\n",
       "      <td>1.0</td>\n",
       "      <td>1.0</td>\n",
       "      <td>1.0</td>\n",
       "      <td>12</td>\n",
       "      <td>0</td>\n",
       "      <td>NaN</td>\n",
       "      <td>...</td>\n",
       "      <td>NaN</td>\n",
       "      <td>576</td>\n",
       "      <td>1</td>\n",
       "      <td>12</td>\n",
       "      <td>0</td>\n",
       "      <td>0</td>\n",
       "      <td>0</td>\n",
       "      <td>1</td>\n",
       "      <td>0</td>\n",
       "      <td>0</td>\n",
       "    </tr>\n",
       "    <tr>\n",
       "      <th>1</th>\n",
       "      <td>1</td>\n",
       "      <td>56</td>\n",
       "      <td>32</td>\n",
       "      <td>1.0</td>\n",
       "      <td>1.0</td>\n",
       "      <td>1.0</td>\n",
       "      <td>1.0</td>\n",
       "      <td>13</td>\n",
       "      <td>3</td>\n",
       "      <td>25.0</td>\n",
       "      <td>...</td>\n",
       "      <td>12.0</td>\n",
       "      <td>1024</td>\n",
       "      <td>1</td>\n",
       "      <td>13</td>\n",
       "      <td>0</td>\n",
       "      <td>0</td>\n",
       "      <td>0</td>\n",
       "      <td>1</td>\n",
       "      <td>0</td>\n",
       "      <td>1</td>\n",
       "    </tr>\n",
       "    <tr>\n",
       "      <th>2</th>\n",
       "      <td>7</td>\n",
       "      <td>58</td>\n",
       "      <td>30</td>\n",
       "      <td>1.0</td>\n",
       "      <td>0.0</td>\n",
       "      <td>0.0</td>\n",
       "      <td>0.0</td>\n",
       "      <td>5</td>\n",
       "      <td>1</td>\n",
       "      <td>27.0</td>\n",
       "      <td>...</td>\n",
       "      <td>7.0</td>\n",
       "      <td>900</td>\n",
       "      <td>1</td>\n",
       "      <td>5</td>\n",
       "      <td>1</td>\n",
       "      <td>0</td>\n",
       "      <td>0</td>\n",
       "      <td>0</td>\n",
       "      <td>0</td>\n",
       "      <td>1</td>\n",
       "    </tr>\n",
       "    <tr>\n",
       "      <th>3</th>\n",
       "      <td>11</td>\n",
       "      <td>45</td>\n",
       "      <td>42</td>\n",
       "      <td>1.0</td>\n",
       "      <td>0.0</td>\n",
       "      <td>1.0</td>\n",
       "      <td>0.0</td>\n",
       "      <td>4</td>\n",
       "      <td>3</td>\n",
       "      <td>17.0</td>\n",
       "      <td>...</td>\n",
       "      <td>11.0</td>\n",
       "      <td>1764</td>\n",
       "      <td>1</td>\n",
       "      <td>4</td>\n",
       "      <td>0</td>\n",
       "      <td>0</td>\n",
       "      <td>0</td>\n",
       "      <td>0</td>\n",
       "      <td>0</td>\n",
       "      <td>1</td>\n",
       "    </tr>\n",
       "    <tr>\n",
       "      <th>4</th>\n",
       "      <td>5</td>\n",
       "      <td>45</td>\n",
       "      <td>43</td>\n",
       "      <td>1.0</td>\n",
       "      <td>1.0</td>\n",
       "      <td>1.0</td>\n",
       "      <td>1.0</td>\n",
       "      <td>11</td>\n",
       "      <td>2</td>\n",
       "      <td>24.0</td>\n",
       "      <td>...</td>\n",
       "      <td>14.0</td>\n",
       "      <td>1849</td>\n",
       "      <td>1</td>\n",
       "      <td>11</td>\n",
       "      <td>0</td>\n",
       "      <td>1</td>\n",
       "      <td>0</td>\n",
       "      <td>1</td>\n",
       "      <td>0</td>\n",
       "      <td>1</td>\n",
       "    </tr>\n",
       "  </tbody>\n",
       "</table>\n",
       "<p>5 rows × 27 columns</p>\n",
       "</div>"
      ],
      "text/plain": [
       "   mnthborn  yearborn  age  electric  radio   tv  bicycle  educ  ceb  \\\n",
       "0         5        64   24       1.0    1.0  1.0      1.0    12    0   \n",
       "1         1        56   32       1.0    1.0  1.0      1.0    13    3   \n",
       "2         7        58   30       1.0    0.0  0.0      0.0     5    1   \n",
       "3        11        45   42       1.0    0.0  1.0      0.0     4    3   \n",
       "4         5        45   43       1.0    1.0  1.0      1.0    11    2   \n",
       "\n",
       "   agefbrth  ...  heduc  agesq  urban  urb_educ  spirit  protest  catholic  \\\n",
       "0       NaN  ...    NaN    576      1        12       0        0         0   \n",
       "1      25.0  ...   12.0   1024      1        13       0        0         0   \n",
       "2      27.0  ...    7.0    900      1         5       1        0         0   \n",
       "3      17.0  ...   11.0   1764      1         4       0        0         0   \n",
       "4      24.0  ...   14.0   1849      1        11       0        1         0   \n",
       "\n",
       "   frsthalf  educ0  evermarr  \n",
       "0         1      0         0  \n",
       "1         1      0         1  \n",
       "2         0      0         1  \n",
       "3         0      0         1  \n",
       "4         1      0         1  \n",
       "\n",
       "[5 rows x 27 columns]"
      ]
     },
     "execution_count": 3,
     "metadata": {},
     "output_type": "execute_result"
    }
   ],
   "source": [
    "df = woo.data(\"fertil2\")\n",
    "df.head()"
   ]
  },
  {
   "cell_type": "markdown",
   "id": "69893d69",
   "metadata": {},
   "source": [
    "## (i) Find the smallest and largest values of $children$ in the sample. What is the mean of $children$?"
   ]
  },
  {
   "cell_type": "code",
   "execution_count": 4,
   "id": "3d1bb514",
   "metadata": {},
   "outputs": [
    {
     "name": "stdout",
     "output_type": "stream",
     "text": [
      "Minimum number of children: 0\n",
      "Maximum number of children: 13\n",
      "Average number of children: 2.27\n"
     ]
    }
   ],
   "source": [
    "# Minimum, maximum, and mean of children\n",
    "min_children = df['children'].min()\n",
    "max_children = df['children'].max()\n",
    "mean_children = df['children'].mean()\n",
    "\n",
    "print(f\"Minimum number of children: {min_children}\")\n",
    "print(f\"Maximum number of children: {max_children}\")\n",
    "print(f\"Average number of children: {mean_children:.2f}\")"
   ]
  },
  {
   "cell_type": "markdown",
   "id": "4d802084",
   "metadata": {},
   "source": [
    "## (ii) What percentage of women have electricity at home?"
   ]
  },
  {
   "cell_type": "code",
   "execution_count": 5,
   "id": "b4d7fda3",
   "metadata": {},
   "outputs": [
    {
     "name": "stdout",
     "output_type": "stream",
     "text": [
      "Percentage of women with electricity at home: 14.02%\n"
     ]
    }
   ],
   "source": [
    "# Percentage of women with electricity at home\n",
    "perc_electric = df['electric'].mean() * 100\n",
    "\n",
    "print(f\"Percentage of women with electricity at home: {perc_electric:.2f}%\")"
   ]
  },
  {
   "cell_type": "markdown",
   "id": "9c1c43c2",
   "metadata": {},
   "source": [
    "## (iii) Calculate the average number of children for those without electricity and do the same for those with electricity. Comment on what you found."
   ]
  },
  {
   "cell_type": "code",
   "execution_count": 6,
   "id": "04bcd595",
   "metadata": {},
   "outputs": [
    {
     "name": "stdout",
     "output_type": "stream",
     "text": [
      "Average number of children:\n",
      "electric\n",
      "0.0    2.327729\n",
      "1.0    1.898527\n",
      "Name: children, dtype: float64\n"
     ]
    }
   ],
   "source": [
    "# Average number of children by electricity status\n",
    "mean_children_electric = df.groupby('electric')['children'].mean()\n",
    "\n",
    "print(\"Average number of children:\")\n",
    "print(mean_children_electric)"
   ]
  },
  {
   "cell_type": "markdown",
   "id": "61283cc4",
   "metadata": {},
   "source": [
    "Women without electricity have, on average, 0.43 more children than those who have electricity."
   ]
  },
  {
   "cell_type": "markdown",
   "id": "77f16d32",
   "metadata": {},
   "source": [
    "## (iv) From item (iii), can you deduce that having electricity \"causes\" women to have more children? Explain."
   ]
  },
  {
   "cell_type": "markdown",
   "id": "0d8e37e8",
   "metadata": {},
   "source": [
    "Although there is a negative correlation between having electricity and the number of children, this does not mean that electricity causes reduced fertility. It is more likely that electricity is an indicator of better socioeconomic conditions, which in turn are linked to lower fertility."
   ]
  }
 ],
 "metadata": {
  "kernelspec": {
   "display_name": "Python 3 (ipykernel)",
   "language": "python",
   "name": "python3"
  },
  "language_info": {
   "codemirror_mode": {
    "name": "ipython",
    "version": 3
   },
   "file_extension": ".py",
   "mimetype": "text/x-python",
   "name": "python",
   "nbconvert_exporter": "python",
   "pygments_lexer": "ipython3",
   "version": "3.11.5"
  }
 },
 "nbformat": 4,
 "nbformat_minor": 5
}
