{
 "cells": [
  {
   "cell_type": "markdown",
   "id": "b780d8eb",
   "metadata": {},
   "source": [
    "## Import wooldridge library"
   ]
  },
  {
   "cell_type": "code",
   "execution_count": 1,
   "id": "b5445698",
   "metadata": {},
   "outputs": [],
   "source": [
    "import wooldridge as woo"
   ]
  },
  {
   "cell_type": "markdown",
   "id": "a021fd7d",
   "metadata": {},
   "source": [
    "## Load dataset"
   ]
  },
  {
   "cell_type": "code",
   "execution_count": 2,
   "id": "5d755b00",
   "metadata": {},
   "outputs": [
    {
     "data": {
      "text/html": [
       "<div>\n",
       "<style scoped>\n",
       "    .dataframe tbody tr th:only-of-type {\n",
       "        vertical-align: middle;\n",
       "    }\n",
       "\n",
       "    .dataframe tbody tr th {\n",
       "        vertical-align: top;\n",
       "    }\n",
       "\n",
       "    .dataframe thead th {\n",
       "        text-align: right;\n",
       "    }\n",
       "</style>\n",
       "<table border=\"1\" class=\"dataframe\">\n",
       "  <thead>\n",
       "    <tr style=\"text-align: right;\">\n",
       "      <th></th>\n",
       "      <th>dcode</th>\n",
       "      <th>bcode</th>\n",
       "      <th>math4</th>\n",
       "      <th>read4</th>\n",
       "      <th>lunch</th>\n",
       "      <th>enroll</th>\n",
       "      <th>expend</th>\n",
       "      <th>exppp</th>\n",
       "      <th>lenroll</th>\n",
       "      <th>lexpend</th>\n",
       "      <th>lexppp</th>\n",
       "    </tr>\n",
       "  </thead>\n",
       "  <tbody>\n",
       "    <tr>\n",
       "      <th>0</th>\n",
       "      <td>1010.0</td>\n",
       "      <td>4937</td>\n",
       "      <td>83.300003</td>\n",
       "      <td>77.800003</td>\n",
       "      <td>40.599998</td>\n",
       "      <td>468</td>\n",
       "      <td>2747475.0</td>\n",
       "      <td>5870.672852</td>\n",
       "      <td>6.148468</td>\n",
       "      <td>14.826193</td>\n",
       "      <td>8.677725</td>\n",
       "    </tr>\n",
       "    <tr>\n",
       "      <th>1</th>\n",
       "      <td>2070.0</td>\n",
       "      <td>597</td>\n",
       "      <td>90.300003</td>\n",
       "      <td>82.300003</td>\n",
       "      <td>27.100000</td>\n",
       "      <td>679</td>\n",
       "      <td>1505772.0</td>\n",
       "      <td>2217.631836</td>\n",
       "      <td>6.520621</td>\n",
       "      <td>14.224816</td>\n",
       "      <td>7.704195</td>\n",
       "    </tr>\n",
       "    <tr>\n",
       "      <th>2</th>\n",
       "      <td>2080.0</td>\n",
       "      <td>4860</td>\n",
       "      <td>61.900002</td>\n",
       "      <td>71.400002</td>\n",
       "      <td>41.750000</td>\n",
       "      <td>400</td>\n",
       "      <td>2121871.0</td>\n",
       "      <td>5304.677734</td>\n",
       "      <td>5.991465</td>\n",
       "      <td>14.567809</td>\n",
       "      <td>8.576344</td>\n",
       "    </tr>\n",
       "    <tr>\n",
       "      <th>3</th>\n",
       "      <td>3010.0</td>\n",
       "      <td>790</td>\n",
       "      <td>85.699997</td>\n",
       "      <td>60.000000</td>\n",
       "      <td>12.750000</td>\n",
       "      <td>251</td>\n",
       "      <td>1211034.0</td>\n",
       "      <td>4824.836426</td>\n",
       "      <td>5.525453</td>\n",
       "      <td>14.006985</td>\n",
       "      <td>8.481532</td>\n",
       "    </tr>\n",
       "    <tr>\n",
       "      <th>4</th>\n",
       "      <td>3010.0</td>\n",
       "      <td>1403</td>\n",
       "      <td>77.300003</td>\n",
       "      <td>59.099998</td>\n",
       "      <td>17.080000</td>\n",
       "      <td>439</td>\n",
       "      <td>1913501.0</td>\n",
       "      <td>4358.771973</td>\n",
       "      <td>6.084499</td>\n",
       "      <td>14.464445</td>\n",
       "      <td>8.379946</td>\n",
       "    </tr>\n",
       "  </tbody>\n",
       "</table>\n",
       "</div>"
      ],
      "text/plain": [
       "    dcode  bcode      math4      read4      lunch  enroll     expend  \\\n",
       "0  1010.0   4937  83.300003  77.800003  40.599998     468  2747475.0   \n",
       "1  2070.0    597  90.300003  82.300003  27.100000     679  1505772.0   \n",
       "2  2080.0   4860  61.900002  71.400002  41.750000     400  2121871.0   \n",
       "3  3010.0    790  85.699997  60.000000  12.750000     251  1211034.0   \n",
       "4  3010.0   1403  77.300003  59.099998  17.080000     439  1913501.0   \n",
       "\n",
       "         exppp   lenroll    lexpend    lexppp  \n",
       "0  5870.672852  6.148468  14.826193  8.677725  \n",
       "1  2217.631836  6.520621  14.224816  7.704195  \n",
       "2  5304.677734  5.991465  14.567809  8.576344  \n",
       "3  4824.836426  5.525453  14.006985  8.481532  \n",
       "4  4358.771973  6.084499  14.464445  8.379946  "
      ]
     },
     "execution_count": 2,
     "metadata": {},
     "output_type": "execute_result"
    }
   ],
   "source": [
    "df = woo.data('meap01')\n",
    "df.head()"
   ]
  },
  {
   "cell_type": "markdown",
   "id": "0e7dc6a5",
   "metadata": {},
   "source": [
    "## (i) Find the largest and smallest values of $math4$. Does this range make sense? Explain."
   ]
  },
  {
   "cell_type": "code",
   "execution_count": 3,
   "id": "aeda1307",
   "metadata": {},
   "outputs": [
    {
     "name": "stdout",
     "output_type": "stream",
     "text": [
      "Smallest value of math4: 0.0\n",
      "Largest value of math4: 100.0\n"
     ]
    }
   ],
   "source": [
    "# Find the smallest and largest values of math4\n",
    "min_math4 = df['math4'].min()\n",
    "max_math4 = df['math4'].max()\n",
    "\n",
    "# Print results\n",
    "print(f\"Smallest value of math4: {min_math4}\")\n",
    "print(f\"Largest value of math4: {max_math4}\")"
   ]
  },
  {
   "cell_type": "markdown",
   "id": "d9a6d489",
   "metadata": {},
   "source": [
    "Smallest value: typically should be ≥ 0 (or the minimum possible score on the test).\n",
    "\n",
    "Largest value: should not exceed the maximum score possible (often 100 or the maximum scale of the test).\n",
    "\n",
    "If the minimum or maximum is outside the expected range, it could indicate data errors, missing codes, or special values?"
   ]
  },
  {
   "cell_type": "markdown",
   "id": "c629c372",
   "metadata": {},
   "source": [
    "## (ii) How many schools have a perfect pass rate on the math test? What percentage of the total sample does this represent?\n"
   ]
  },
  {
   "cell_type": "code",
   "execution_count": 4,
   "id": "c9a71256",
   "metadata": {},
   "outputs": [
    {
     "name": "stdout",
     "output_type": "stream",
     "text": [
      "Number of schools with perfect pass rate: 38\n",
      "Percentage of total sample: 2.08%\n"
     ]
    }
   ],
   "source": [
    "# Count how many schools have a perfect pass rate (math4 == 100)\n",
    "perfect_pass_count = (df['math4'] == 100).sum()\n",
    "\n",
    "# Total number of schools in the dataset\n",
    "total_schools = df.shape[0]\n",
    "\n",
    "# Percentage of schools with perfect pass rate\n",
    "perfect_pass_pct = (perfect_pass_count / total_schools) * 100\n",
    "\n",
    "# Print results\n",
    "print(f\"Number of schools with perfect pass rate: {perfect_pass_count}\")\n",
    "print(f\"Percentage of total sample: {perfect_pass_pct:.2f}%\")"
   ]
  },
  {
   "cell_type": "markdown",
   "id": "b003c3c9",
   "metadata": {},
   "source": [
    "## (iii) How many schools have math pass rates of exactly 50%?"
   ]
  },
  {
   "cell_type": "code",
   "execution_count": 5,
   "id": "762aba8b",
   "metadata": {},
   "outputs": [
    {
     "name": "stdout",
     "output_type": "stream",
     "text": [
      "Number of schools with math4 = 50%: 17\n"
     ]
    }
   ],
   "source": [
    "# Count how many schools have exactly 50% pass rate in math4\n",
    "count_50 = (df['math4'] == 50).sum()\n",
    "\n",
    "print(f\"Number of schools with math4 = 50%: {count_50}\")"
   ]
  },
  {
   "cell_type": "markdown",
   "id": "50c58000",
   "metadata": {},
   "source": [
    "## (iv) Compare the average passing rates for math and reading. Which test is more difficult to pass?"
   ]
  },
  {
   "cell_type": "code",
   "execution_count": 6,
   "id": "188aa80a",
   "metadata": {},
   "outputs": [
    {
     "name": "stdout",
     "output_type": "stream",
     "text": [
      "Average math pass rate: 71.91%\n",
      "Average reading pass rate: 60.06%\n",
      "Reading test appears to be more difficult (lower pass rate).\n"
     ]
    }
   ],
   "source": [
    "# Calculate the mean pass rates for math and reading\n",
    "mean_math = df['math4'].mean()\n",
    "mean_read = df['read4'].mean()\n",
    "\n",
    "print(f\"Average math pass rate: {mean_math:.2f}%\")\n",
    "print(f\"Average reading pass rate: {mean_read:.2f}%\")\n",
    "\n",
    "# Compare which subject had lower pass rate\n",
    "if mean_math < mean_read:\n",
    "    print(\"Math test appears to be more difficult (lower pass rate).\")\n",
    "elif mean_math > mean_read:\n",
    "    print(\"Reading test appears to be more difficult (lower pass rate).\")\n",
    "else:\n",
    "    print(\"Both tests have the same average pass rate.\")"
   ]
  },
  {
   "cell_type": "markdown",
   "id": "4fdf8dab",
   "metadata": {},
   "source": [
    "## (v) Find the correlation between $math4$ and $read4$. What do you conclude?"
   ]
  },
  {
   "cell_type": "code",
   "execution_count": 7,
   "id": "33c68e15",
   "metadata": {},
   "outputs": [
    {
     "name": "stdout",
     "output_type": "stream",
     "text": [
      "Correlation between math4 and read4: 0.843\n"
     ]
    }
   ],
   "source": [
    "# Calculate the correlation between math4 and read4\n",
    "corr_math_read = df['math4'].corr(df['read4'])\n",
    "\n",
    "print(f\"Correlation between math4 and read4: {corr_math_read:.3f}\")"
   ]
  },
  {
   "cell_type": "markdown",
   "id": "233698a1",
   "metadata": {},
   "source": [
    "the correlation is high and positive (0.843), which suggests that schools that do well in reading also do well in math."
   ]
  },
  {
   "cell_type": "markdown",
   "id": "44f710c2",
   "metadata": {},
   "source": [
    "## (vi) The variable $exppp$ is spending per student. Find the mean $exppp$ and its standard deviation. Would you say there is a wide variation in spending per student?"
   ]
  },
  {
   "cell_type": "code",
   "execution_count": 8,
   "id": "35d0d81d",
   "metadata": {},
   "outputs": [
    {
     "name": "stdout",
     "output_type": "stream",
     "text": [
      "Average expenditure per pupil: $5,194.87\n",
      "Standard deviation: $1,091.89\n"
     ]
    }
   ],
   "source": [
    "# Calculate mean and standard deviation of exppp\n",
    "mean_exppp = df['exppp'].mean()\n",
    "std_exppp = df['exppp'].std()\n",
    "\n",
    "print(f\"Average expenditure per pupil: ${mean_exppp:,.2f}\")\n",
    "print(f\"Standard deviation: ${std_exppp:,.2f}\")"
   ]
  },
  {
   "cell_type": "markdown",
   "id": "376a9b29",
   "metadata": {},
   "source": [
    "The standard deviation is about 21% of the mean (1091 ÷ 5195 ≈ 0.21).\n",
    "\n",
    "This indicates that there is considerable variation in per-student spending across schools."
   ]
  },
  {
   "cell_type": "markdown",
   "id": "983af9bf",
   "metadata": {},
   "source": [
    "### (vii) Suppose school A spends US 6,000 per student and school B spends US 5,500 per student. By what percentage does school A exceed school B's spending? Compare this to 100 • [log(6,000) - log(5,500)], which is the approximate percentage difference based on the difference of the natural logs."
   ]
  },
  {
   "cell_type": "code",
   "execution_count": 9,
   "id": "46320fb4",
   "metadata": {},
   "outputs": [
    {
     "name": "stdout",
     "output_type": "stream",
     "text": [
      "Exact percentage difference: 9.09%\n",
      "Approximate percentage difference (using logs): 8.70%\n"
     ]
    }
   ],
   "source": [
    "#import numpy\n",
    "import numpy as np\n",
    "\n",
    "# Expenditures per pupil\n",
    "exppp_A = 6000\n",
    "exppp_B = 5500\n",
    "\n",
    "# (1) Exact percentage difference\n",
    "percent_diff = ((exppp_A - exppp_B) / exppp_B) * 100\n",
    "\n",
    "# (2) Approximate percentage difference using natural logs\n",
    "log_diff = 100 * (np.log(exppp_A) - np.log(exppp_B))\n",
    "\n",
    "# Print results\n",
    "print(f\"Exact percentage difference: {percent_diff:.2f}%\")\n",
    "print(f\"Approximate percentage difference (using logs): {log_diff:.2f}%\")"
   ]
  }
 ],
 "metadata": {
  "kernelspec": {
   "display_name": "Python 3 (ipykernel)",
   "language": "python",
   "name": "python3"
  },
  "language_info": {
   "codemirror_mode": {
    "name": "ipython",
    "version": 3
   },
   "file_extension": ".py",
   "mimetype": "text/x-python",
   "name": "python",
   "nbconvert_exporter": "python",
   "pygments_lexer": "ipython3",
   "version": "3.11.5"
  }
 },
 "nbformat": 4,
 "nbformat_minor": 5
}
