{
 "cells": [
  {
   "cell_type": "markdown",
   "id": "ef0ddd45",
   "metadata": {},
   "source": [
    "## Import wooldridge library"
   ]
  },
  {
   "cell_type": "code",
   "execution_count": 1,
   "id": "e5cd1adc",
   "metadata": {},
   "outputs": [],
   "source": [
    "import wooldridge as woo"
   ]
  },
  {
   "cell_type": "markdown",
   "id": "2926f0cf",
   "metadata": {},
   "source": [
    "## Load dataset"
   ]
  },
  {
   "cell_type": "code",
   "execution_count": 2,
   "id": "08014776",
   "metadata": {},
   "outputs": [
    {
     "name": "stderr",
     "output_type": "stream",
     "text": [
      "C:\\Users\\Dell\\miniconda3\\envs\\meu_env\\Lib\\site-packages\\wooldridge\\load_data.py:58: DtypeWarning: Columns (8,9,10) have mixed types. Specify dtype option on import or set low_memory=False.\n",
      "  return pd.read_csv(full_file_path, compression=\"bz2\")\n"
     ]
    },
    {
     "data": {
      "text/html": [
       "<div>\n",
       "<style scoped>\n",
       "    .dataframe tbody tr th:only-of-type {\n",
       "        vertical-align: middle;\n",
       "    }\n",
       "\n",
       "    .dataframe tbody tr th {\n",
       "        vertical-align: top;\n",
       "    }\n",
       "\n",
       "    .dataframe thead th {\n",
       "        text-align: right;\n",
       "    }\n",
       "</style>\n",
       "<table border=\"1\" class=\"dataframe\">\n",
       "  <thead>\n",
       "    <tr style=\"text-align: right;\">\n",
       "      <th></th>\n",
       "      <th>arrests</th>\n",
       "      <th>countyid</th>\n",
       "      <th>density</th>\n",
       "      <th>popul</th>\n",
       "      <th>perc1019</th>\n",
       "      <th>perc2029</th>\n",
       "      <th>percblack</th>\n",
       "      <th>percmale</th>\n",
       "      <th>rpcincmaint</th>\n",
       "      <th>rpcpersinc</th>\n",
       "      <th>rpcunemins</th>\n",
       "      <th>year</th>\n",
       "      <th>murders</th>\n",
       "      <th>murdrate</th>\n",
       "      <th>arrestrate</th>\n",
       "      <th>statefips</th>\n",
       "      <th>countyfips</th>\n",
       "      <th>execs</th>\n",
       "      <th>lpopul</th>\n",
       "      <th>execrate</th>\n",
       "    </tr>\n",
       "  </thead>\n",
       "  <tbody>\n",
       "    <tr>\n",
       "      <th>0</th>\n",
       "      <td>2</td>\n",
       "      <td>1001</td>\n",
       "      <td>54.05</td>\n",
       "      <td>32216</td>\n",
       "      <td>20.63</td>\n",
       "      <td>15.28</td>\n",
       "      <td>22.33</td>\n",
       "      <td>40.25</td>\n",
       "      <td>167.67</td>\n",
       "      <td>8780.8</td>\n",
       "      <td>29.16</td>\n",
       "      <td>1980</td>\n",
       "      <td>2</td>\n",
       "      <td>0.620810</td>\n",
       "      <td>0.6208095</td>\n",
       "      <td>1</td>\n",
       "      <td>1</td>\n",
       "      <td>0</td>\n",
       "      <td>10.38022</td>\n",
       "      <td>0.0</td>\n",
       "    </tr>\n",
       "    <tr>\n",
       "      <th>1</th>\n",
       "      <td>3</td>\n",
       "      <td>1001</td>\n",
       "      <td>53.66</td>\n",
       "      <td>31984</td>\n",
       "      <td>20.19</td>\n",
       "      <td>15.55</td>\n",
       "      <td>22.07</td>\n",
       "      <td>40.36</td>\n",
       "      <td>167.99</td>\n",
       "      <td>8232.8</td>\n",
       "      <td>43.92</td>\n",
       "      <td>1981</td>\n",
       "      <td>1</td>\n",
       "      <td>0.312656</td>\n",
       "      <td>0.937969</td>\n",
       "      <td>1</td>\n",
       "      <td>1</td>\n",
       "      <td>0</td>\n",
       "      <td>10.37299</td>\n",
       "      <td>0.0</td>\n",
       "    </tr>\n",
       "    <tr>\n",
       "      <th>2</th>\n",
       "      <td>2</td>\n",
       "      <td>1001</td>\n",
       "      <td>53.75</td>\n",
       "      <td>32036</td>\n",
       "      <td>19.66</td>\n",
       "      <td>15.73</td>\n",
       "      <td>21.80</td>\n",
       "      <td>40.42</td>\n",
       "      <td>166.63</td>\n",
       "      <td>8327.61</td>\n",
       "      <td>71.41</td>\n",
       "      <td>1982</td>\n",
       "      <td>3</td>\n",
       "      <td>0.936446</td>\n",
       "      <td>0.6242977</td>\n",
       "      <td>1</td>\n",
       "      <td>1</td>\n",
       "      <td>0</td>\n",
       "      <td>10.37462</td>\n",
       "      <td>0.0</td>\n",
       "    </tr>\n",
       "    <tr>\n",
       "      <th>3</th>\n",
       "      <td>7</td>\n",
       "      <td>1001</td>\n",
       "      <td>53.78</td>\n",
       "      <td>32056</td>\n",
       "      <td>19.10</td>\n",
       "      <td>15.88</td>\n",
       "      <td>21.53</td>\n",
       "      <td>40.47</td>\n",
       "      <td>176.53</td>\n",
       "      <td>8545.55</td>\n",
       "      <td>72.22</td>\n",
       "      <td>1983</td>\n",
       "      <td>7</td>\n",
       "      <td>2.183679</td>\n",
       "      <td>2.183679</td>\n",
       "      <td>1</td>\n",
       "      <td>1</td>\n",
       "      <td>0</td>\n",
       "      <td>10.37524</td>\n",
       "      <td>0.0</td>\n",
       "    </tr>\n",
       "    <tr>\n",
       "      <th>4</th>\n",
       "      <td>3</td>\n",
       "      <td>1001</td>\n",
       "      <td>53.91</td>\n",
       "      <td>32128</td>\n",
       "      <td>18.54</td>\n",
       "      <td>15.92</td>\n",
       "      <td>21.26</td>\n",
       "      <td>40.51</td>\n",
       "      <td>166.25</td>\n",
       "      <td>8965.16</td>\n",
       "      <td>40.36</td>\n",
       "      <td>1984</td>\n",
       "      <td>2</td>\n",
       "      <td>0.622510</td>\n",
       "      <td>0.933765</td>\n",
       "      <td>1</td>\n",
       "      <td>1</td>\n",
       "      <td>0</td>\n",
       "      <td>10.37748</td>\n",
       "      <td>0.0</td>\n",
       "    </tr>\n",
       "  </tbody>\n",
       "</table>\n",
       "</div>"
      ],
      "text/plain": [
       "  arrests  countyid  density  popul  perc1019  perc2029  percblack  percmale  \\\n",
       "0       2      1001    54.05  32216     20.63     15.28      22.33     40.25   \n",
       "1       3      1001    53.66  31984     20.19     15.55      22.07     40.36   \n",
       "2       2      1001    53.75  32036     19.66     15.73      21.80     40.42   \n",
       "3       7      1001    53.78  32056     19.10     15.88      21.53     40.47   \n",
       "4       3      1001    53.91  32128     18.54     15.92      21.26     40.51   \n",
       "\n",
       "  rpcincmaint rpcpersinc rpcunemins  year  murders  murdrate arrestrate  \\\n",
       "0      167.67     8780.8      29.16  1980        2  0.620810  0.6208095   \n",
       "1      167.99     8232.8      43.92  1981        1  0.312656   0.937969   \n",
       "2      166.63    8327.61      71.41  1982        3  0.936446  0.6242977   \n",
       "3      176.53    8545.55      72.22  1983        7  2.183679   2.183679   \n",
       "4      166.25    8965.16      40.36  1984        2  0.622510   0.933765   \n",
       "\n",
       "   statefips  countyfips  execs    lpopul  execrate  \n",
       "0          1           1      0  10.38022       0.0  \n",
       "1          1           1      0  10.37299       0.0  \n",
       "2          1           1      0  10.37462       0.0  \n",
       "3          1           1      0  10.37524       0.0  \n",
       "4          1           1      0  10.37748       0.0  "
      ]
     },
     "execution_count": 2,
     "metadata": {},
     "output_type": "execute_result"
    }
   ],
   "source": [
    "df = woo.data(\"countymurders\")\n",
    "df.head()"
   ]
  },
  {
   "cell_type": "markdown",
   "id": "6a46636c",
   "metadata": {},
   "source": [
    "## (i) How many counties are listed in the dataset? Of those, how many had zero murders? What percentage of counties had zero executions? (in 1996 only)"
   ]
  },
  {
   "cell_type": "code",
   "execution_count": 3,
   "id": "2ddbad41",
   "metadata": {},
   "outputs": [
    {
     "name": "stdout",
     "output_type": "stream",
     "text": [
      "Total number of counties in 1996: 2197\n",
      "Counties with zero murders: 1051\n",
      "Percentage with zero murders: 47.84%\n"
     ]
    }
   ],
   "source": [
    "# Filter the dataset for the year 1996\n",
    "df_1996 = df[df['year'] == 1996]\n",
    "\n",
    "# Total number of counties in 1996\n",
    "total_counties = df_1996.shape[0]\n",
    "\n",
    "# Number of counties with zero murders in 1996\n",
    "zero_murders = (df_1996['murders'] == 0).sum()\n",
    "\n",
    "# Percentage of counties with zero murders\n",
    "percent_zero_murders = (zero_murders / total_counties) * 100\n",
    "\n",
    "# Print results\n",
    "print(f\"Total number of counties in 1996: {total_counties}\")\n",
    "print(f\"Counties with zero murders: {zero_murders}\")\n",
    "print(f\"Percentage with zero murders: {percent_zero_murders:.2f}%\")"
   ]
  },
  {
   "cell_type": "markdown",
   "id": "e4748904",
   "metadata": {},
   "source": [
    "## (ii) What is the highest number of murders? What is the highest number of executions? Why is the average number of executions so small?"
   ]
  },
  {
   "cell_type": "code",
   "execution_count": 4,
   "id": "7c9c3c24",
   "metadata": {},
   "outputs": [
    {
     "name": "stdout",
     "output_type": "stream",
     "text": [
      "Maximum number of murders in 1996: 1403\n",
      "Maximum number of executions in 1996: 3\n",
      "Average number of executions in 1996: 0.0159\n"
     ]
    }
   ],
   "source": [
    "# Maximum number of murders in 1996\n",
    "max_murders = df_1996['murders'].max()\n",
    "\n",
    "# Maximum number of executions in 1996\n",
    "max_executions = df_1996['execs'].max()\n",
    "\n",
    "# Average number of executions in 1996\n",
    "mean_executions = df_1996['execs'].mean()\n",
    "\n",
    "print(f\"Maximum number of murders in 1996: {max_murders}\")\n",
    "print(f\"Maximum number of executions in 1996: {max_executions}\")\n",
    "print(f\"Average number of executions in 1996: {mean_executions:.4f}\")"
   ]
  },
  {
   "cell_type": "markdown",
   "id": "931549fe",
   "metadata": {},
   "source": [
    "## (iii) Calculate the correlation coefficient between $murders$ and $execs$ and describe what you find."
   ]
  },
  {
   "cell_type": "code",
   "execution_count": 5,
   "id": "35bc304a",
   "metadata": {},
   "outputs": [
    {
     "name": "stdout",
     "output_type": "stream",
     "text": [
      "Correlation between murders and executions (1996): 0.2095\n"
     ]
    }
   ],
   "source": [
    "# Correlation between murders and executions\n",
    "corr = df_1996['murders'].corr(df_1996['execs'])\n",
    "\n",
    "print(f\"Correlation between murders and executions (1996): {corr:.4f}\")"
   ]
  },
  {
   "cell_type": "markdown",
   "id": "7251f93a",
   "metadata": {},
   "source": [
    "## (iv) Do you think more executions cause more murders? What could explain the positive correlation?"
   ]
  },
  {
   "cell_type": "markdown",
   "id": "de1d9297",
   "metadata": {},
   "source": [
    "More executions do not cause more murders.\n",
    "\n",
    "The positive correlation likely reflects that higher homicide rates lead to more executions, or that underlying factors influence both variables (population, region, local policies)."
   ]
  }
 ],
 "metadata": {
  "kernelspec": {
   "display_name": "Python 3 (ipykernel)",
   "language": "python",
   "name": "python3"
  },
  "language_info": {
   "codemirror_mode": {
    "name": "ipython",
    "version": 3
   },
   "file_extension": ".py",
   "mimetype": "text/x-python",
   "name": "python",
   "nbconvert_exporter": "python",
   "pygments_lexer": "ipython3",
   "version": "3.11.5"
  }
 },
 "nbformat": 4,
 "nbformat_minor": 5
}
