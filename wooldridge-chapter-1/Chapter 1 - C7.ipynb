{
 "cells": [
  {
   "cell_type": "markdown",
   "id": "ef0ddd45",
   "metadata": {},
   "source": [
    "## Import wooldridge library"
   ]
  },
  {
   "cell_type": "code",
   "execution_count": 1,
   "id": "e5cd1adc",
   "metadata": {},
   "outputs": [],
   "source": [
    "import wooldridge as woo"
   ]
  },
  {
   "cell_type": "markdown",
   "id": "2926f0cf",
   "metadata": {},
   "source": [
    "## Load dataset"
   ]
  },
  {
   "cell_type": "code",
   "execution_count": 2,
   "id": "7005d830",
   "metadata": {},
   "outputs": [
    {
     "data": {
      "text/html": [
       "<div>\n",
       "<style scoped>\n",
       "    .dataframe tbody tr th:only-of-type {\n",
       "        vertical-align: middle;\n",
       "    }\n",
       "\n",
       "    .dataframe tbody tr th {\n",
       "        vertical-align: top;\n",
       "    }\n",
       "\n",
       "    .dataframe thead th {\n",
       "        text-align: right;\n",
       "    }\n",
       "</style>\n",
       "<table border=\"1\" class=\"dataframe\">\n",
       "  <thead>\n",
       "    <tr style=\"text-align: right;\">\n",
       "      <th></th>\n",
       "      <th>abuse</th>\n",
       "      <th>status</th>\n",
       "      <th>unemrate</th>\n",
       "      <th>age</th>\n",
       "      <th>educ</th>\n",
       "      <th>married</th>\n",
       "      <th>famsize</th>\n",
       "      <th>white</th>\n",
       "      <th>exhealth</th>\n",
       "      <th>vghealth</th>\n",
       "      <th>...</th>\n",
       "      <th>mothalc</th>\n",
       "      <th>fathalc</th>\n",
       "      <th>livealc</th>\n",
       "      <th>inwf</th>\n",
       "      <th>employ</th>\n",
       "      <th>agesq</th>\n",
       "      <th>beertaxsq</th>\n",
       "      <th>cigtaxsq</th>\n",
       "      <th>ethanolsq</th>\n",
       "      <th>educsq</th>\n",
       "    </tr>\n",
       "  </thead>\n",
       "  <tbody>\n",
       "    <tr>\n",
       "      <th>0</th>\n",
       "      <td>1</td>\n",
       "      <td>1</td>\n",
       "      <td>4.0</td>\n",
       "      <td>50</td>\n",
       "      <td>4</td>\n",
       "      <td>1</td>\n",
       "      <td>1</td>\n",
       "      <td>1</td>\n",
       "      <td>0</td>\n",
       "      <td>0</td>\n",
       "      <td>...</td>\n",
       "      <td>0</td>\n",
       "      <td>0</td>\n",
       "      <td>0</td>\n",
       "      <td>0</td>\n",
       "      <td>0</td>\n",
       "      <td>2500</td>\n",
       "      <td>0.111556</td>\n",
       "      <td>1444.0</td>\n",
       "      <td>4.159397</td>\n",
       "      <td>16</td>\n",
       "    </tr>\n",
       "    <tr>\n",
       "      <th>1</th>\n",
       "      <td>0</td>\n",
       "      <td>3</td>\n",
       "      <td>4.0</td>\n",
       "      <td>37</td>\n",
       "      <td>12</td>\n",
       "      <td>1</td>\n",
       "      <td>5</td>\n",
       "      <td>1</td>\n",
       "      <td>0</td>\n",
       "      <td>0</td>\n",
       "      <td>...</td>\n",
       "      <td>0</td>\n",
       "      <td>0</td>\n",
       "      <td>0</td>\n",
       "      <td>1</td>\n",
       "      <td>1</td>\n",
       "      <td>1369</td>\n",
       "      <td>0.111556</td>\n",
       "      <td>1444.0</td>\n",
       "      <td>4.159397</td>\n",
       "      <td>144</td>\n",
       "    </tr>\n",
       "    <tr>\n",
       "      <th>2</th>\n",
       "      <td>0</td>\n",
       "      <td>3</td>\n",
       "      <td>4.0</td>\n",
       "      <td>53</td>\n",
       "      <td>9</td>\n",
       "      <td>1</td>\n",
       "      <td>3</td>\n",
       "      <td>1</td>\n",
       "      <td>1</td>\n",
       "      <td>0</td>\n",
       "      <td>...</td>\n",
       "      <td>0</td>\n",
       "      <td>0</td>\n",
       "      <td>0</td>\n",
       "      <td>1</td>\n",
       "      <td>1</td>\n",
       "      <td>2809</td>\n",
       "      <td>0.111556</td>\n",
       "      <td>1444.0</td>\n",
       "      <td>4.159397</td>\n",
       "      <td>81</td>\n",
       "    </tr>\n",
       "    <tr>\n",
       "      <th>3</th>\n",
       "      <td>0</td>\n",
       "      <td>3</td>\n",
       "      <td>3.3</td>\n",
       "      <td>59</td>\n",
       "      <td>11</td>\n",
       "      <td>1</td>\n",
       "      <td>1</td>\n",
       "      <td>1</td>\n",
       "      <td>1</td>\n",
       "      <td>0</td>\n",
       "      <td>...</td>\n",
       "      <td>0</td>\n",
       "      <td>0</td>\n",
       "      <td>0</td>\n",
       "      <td>1</td>\n",
       "      <td>1</td>\n",
       "      <td>3481</td>\n",
       "      <td>0.057600</td>\n",
       "      <td>676.0</td>\n",
       "      <td>6.002402</td>\n",
       "      <td>121</td>\n",
       "    </tr>\n",
       "    <tr>\n",
       "      <th>4</th>\n",
       "      <td>0</td>\n",
       "      <td>3</td>\n",
       "      <td>3.3</td>\n",
       "      <td>43</td>\n",
       "      <td>10</td>\n",
       "      <td>1</td>\n",
       "      <td>1</td>\n",
       "      <td>1</td>\n",
       "      <td>1</td>\n",
       "      <td>0</td>\n",
       "      <td>...</td>\n",
       "      <td>0</td>\n",
       "      <td>1</td>\n",
       "      <td>1</td>\n",
       "      <td>1</td>\n",
       "      <td>1</td>\n",
       "      <td>1849</td>\n",
       "      <td>0.057600</td>\n",
       "      <td>676.0</td>\n",
       "      <td>6.002402</td>\n",
       "      <td>100</td>\n",
       "    </tr>\n",
       "  </tbody>\n",
       "</table>\n",
       "<p>5 rows × 33 columns</p>\n",
       "</div>"
      ],
      "text/plain": [
       "   abuse  status  unemrate  age  educ  married  famsize  white  exhealth  \\\n",
       "0      1       1       4.0   50     4        1        1      1         0   \n",
       "1      0       3       4.0   37    12        1        5      1         0   \n",
       "2      0       3       4.0   53     9        1        3      1         1   \n",
       "3      0       3       3.3   59    11        1        1      1         1   \n",
       "4      0       3       3.3   43    10        1        1      1         1   \n",
       "\n",
       "   vghealth  ...  mothalc  fathalc  livealc  inwf  employ  agesq  beertaxsq  \\\n",
       "0         0  ...        0        0        0     0       0   2500   0.111556   \n",
       "1         0  ...        0        0        0     1       1   1369   0.111556   \n",
       "2         0  ...        0        0        0     1       1   2809   0.111556   \n",
       "3         0  ...        0        0        0     1       1   3481   0.057600   \n",
       "4         0  ...        0        1        1     1       1   1849   0.057600   \n",
       "\n",
       "   cigtaxsq  ethanolsq  educsq  \n",
       "0    1444.0   4.159397      16  \n",
       "1    1444.0   4.159397     144  \n",
       "2    1444.0   4.159397      81  \n",
       "3     676.0   6.002402     121  \n",
       "4     676.0   6.002402     100  \n",
       "\n",
       "[5 rows x 33 columns]"
      ]
     },
     "execution_count": 2,
     "metadata": {},
     "output_type": "execute_result"
    }
   ],
   "source": [
    "df = woo.data(\"alcohol\")\n",
    "df.head()"
   ]
  },
  {
   "cell_type": "markdown",
   "id": "61cd0896",
   "metadata": {},
   "source": [
    "## (i) What percentage of men in the sample reported alcohol abuse? What is the employment rate?"
   ]
  },
  {
   "cell_type": "code",
   "execution_count": 3,
   "id": "f0166c4c",
   "metadata": {},
   "outputs": [
    {
     "name": "stdout",
     "output_type": "stream",
     "text": [
      "Percentage of men reporting alcohol abuse: 9.92%\n",
      "Employment rate in the sample: 89.82%\n"
     ]
    }
   ],
   "source": [
    "# Percentage of men reporting alcohol abuse (entire sample is men)\n",
    "prop_abuse = df['abuse'].mean() * 100\n",
    "\n",
    "# Employment rate in the sample\n",
    "employment_rate = df['employ'].mean() * 100\n",
    "\n",
    "print(f\"Percentage of men reporting alcohol abuse: {prop_abuse:.2f}%\")\n",
    "print(f\"Employment rate in the sample: {employment_rate:.2f}%\")"
   ]
  },
  {
   "cell_type": "markdown",
   "id": "7d4432ab",
   "metadata": {},
   "source": [
    "## (ii) Consider the group of men who abuse alcohol. What is the employment rate of this group?"
   ]
  },
  {
   "cell_type": "code",
   "execution_count": 4,
   "id": "e6f0e107",
   "metadata": {},
   "outputs": [
    {
     "name": "stdout",
     "output_type": "stream",
     "text": [
      "Employment rate among men who abuse alcohol: 87.27%\n"
     ]
    }
   ],
   "source": [
    "# Filter the group of men who reported alcohol abuse\n",
    "abuse_group = df[df['abuse'] == 1]\n",
    "\n",
    "# Employment rate within the alcohol abuse group\n",
    "employment_abuse = abuse_group['employ'].mean() * 100\n",
    "\n",
    "print(f\"Employment rate among men who abuse alcohol: {employment_abuse:.2f}%\")"
   ]
  },
  {
   "cell_type": "markdown",
   "id": "581ab4b0",
   "metadata": {},
   "source": [
    "## (iii) What is the employment rate of the group of men who do not abuse alcohol?"
   ]
  },
  {
   "cell_type": "code",
   "execution_count": 5,
   "id": "76903fe7",
   "metadata": {},
   "outputs": [
    {
     "name": "stdout",
     "output_type": "stream",
     "text": [
      "Employment rate among men who do not abuse alcohol: 90.10%\n"
     ]
    }
   ],
   "source": [
    "# Filter the group of men who did NOT report alcohol abuse\n",
    "no_abuse_group = df[df['abuse'] == 0]\n",
    "\n",
    "# Employment rate within the non-alcohol-abuse group\n",
    "employment_no_abuse = no_abuse_group['employ'].mean() * 100\n",
    "\n",
    "print(f\"Employment rate among men who do not abuse alcohol: {employment_no_abuse:.2f}%\")"
   ]
  },
  {
   "cell_type": "markdown",
   "id": "434001e6",
   "metadata": {},
   "source": [
    "## (iv) Discuss the difference in your answers to items (ii) and (iii). Does this allow you to conclude that alcohol abuse causes unemployment?"
   ]
  },
  {
   "cell_type": "markdown",
   "id": "069eddeb",
   "metadata": {},
   "source": [
    "We can only say that there is a slight negative association between alcohol abuse and employment, but we cannot conclude that alcohol abuse causes unemployment."
   ]
  }
 ],
 "metadata": {
  "kernelspec": {
   "display_name": "Python 3 (ipykernel)",
   "language": "python",
   "name": "python3"
  },
  "language_info": {
   "codemirror_mode": {
    "name": "ipython",
    "version": 3
   },
   "file_extension": ".py",
   "mimetype": "text/x-python",
   "name": "python",
   "nbconvert_exporter": "python",
   "pygments_lexer": "ipython3",
   "version": "3.11.5"
  }
 },
 "nbformat": 4,
 "nbformat_minor": 5
}
