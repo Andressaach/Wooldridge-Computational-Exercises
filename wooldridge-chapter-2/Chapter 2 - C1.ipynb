{
 "cells": [
  {
   "cell_type": "markdown",
   "id": "ef0ddd45",
   "metadata": {},
   "source": [
    "## Import libraries"
   ]
  },
  {
   "cell_type": "code",
   "execution_count": 1,
   "id": "e5cd1adc",
   "metadata": {},
   "outputs": [],
   "source": [
    "import wooldridge as woo\n",
    "import pandas as pd\n",
    "import statsmodels.api as sm"
   ]
  },
  {
   "cell_type": "markdown",
   "id": "2926f0cf",
   "metadata": {},
   "source": [
    "## Load dataset"
   ]
  },
  {
   "cell_type": "code",
   "execution_count": 2,
   "id": "7005d830",
   "metadata": {},
   "outputs": [
    {
     "data": {
      "text/html": [
       "<div>\n",
       "<style scoped>\n",
       "    .dataframe tbody tr th:only-of-type {\n",
       "        vertical-align: middle;\n",
       "    }\n",
       "\n",
       "    .dataframe tbody tr th {\n",
       "        vertical-align: top;\n",
       "    }\n",
       "\n",
       "    .dataframe thead th {\n",
       "        text-align: right;\n",
       "    }\n",
       "</style>\n",
       "<table border=\"1\" class=\"dataframe\">\n",
       "  <thead>\n",
       "    <tr style=\"text-align: right;\">\n",
       "      <th></th>\n",
       "      <th>prate</th>\n",
       "      <th>mrate</th>\n",
       "      <th>totpart</th>\n",
       "      <th>totelg</th>\n",
       "      <th>age</th>\n",
       "      <th>totemp</th>\n",
       "      <th>sole</th>\n",
       "      <th>ltotemp</th>\n",
       "    </tr>\n",
       "  </thead>\n",
       "  <tbody>\n",
       "    <tr>\n",
       "      <th>0</th>\n",
       "      <td>26.100000</td>\n",
       "      <td>0.21</td>\n",
       "      <td>1653.0</td>\n",
       "      <td>6322.0</td>\n",
       "      <td>8</td>\n",
       "      <td>8709.0</td>\n",
       "      <td>0</td>\n",
       "      <td>9.072112</td>\n",
       "    </tr>\n",
       "    <tr>\n",
       "      <th>1</th>\n",
       "      <td>100.000000</td>\n",
       "      <td>1.42</td>\n",
       "      <td>262.0</td>\n",
       "      <td>262.0</td>\n",
       "      <td>6</td>\n",
       "      <td>315.0</td>\n",
       "      <td>1</td>\n",
       "      <td>5.752573</td>\n",
       "    </tr>\n",
       "    <tr>\n",
       "      <th>2</th>\n",
       "      <td>97.599998</td>\n",
       "      <td>0.91</td>\n",
       "      <td>166.0</td>\n",
       "      <td>170.0</td>\n",
       "      <td>10</td>\n",
       "      <td>275.0</td>\n",
       "      <td>1</td>\n",
       "      <td>5.616771</td>\n",
       "    </tr>\n",
       "    <tr>\n",
       "      <th>3</th>\n",
       "      <td>100.000000</td>\n",
       "      <td>0.42</td>\n",
       "      <td>257.0</td>\n",
       "      <td>257.0</td>\n",
       "      <td>7</td>\n",
       "      <td>500.0</td>\n",
       "      <td>0</td>\n",
       "      <td>6.214608</td>\n",
       "    </tr>\n",
       "    <tr>\n",
       "      <th>4</th>\n",
       "      <td>82.500000</td>\n",
       "      <td>0.53</td>\n",
       "      <td>591.0</td>\n",
       "      <td>716.0</td>\n",
       "      <td>28</td>\n",
       "      <td>933.0</td>\n",
       "      <td>1</td>\n",
       "      <td>6.838405</td>\n",
       "    </tr>\n",
       "  </tbody>\n",
       "</table>\n",
       "</div>"
      ],
      "text/plain": [
       "        prate  mrate  totpart  totelg  age  totemp  sole   ltotemp\n",
       "0   26.100000   0.21   1653.0  6322.0    8  8709.0     0  9.072112\n",
       "1  100.000000   1.42    262.0   262.0    6   315.0     1  5.752573\n",
       "2   97.599998   0.91    166.0   170.0   10   275.0     1  5.616771\n",
       "3  100.000000   0.42    257.0   257.0    7   500.0     0  6.214608\n",
       "4   82.500000   0.53    591.0   716.0   28   933.0     1  6.838405"
      ]
     },
     "execution_count": 2,
     "metadata": {},
     "output_type": "execute_result"
    }
   ],
   "source": [
    "df = woo.data(\"401k\")\n",
    "df.head()"
   ]
  },
  {
   "cell_type": "markdown",
   "id": "c2bd87be",
   "metadata": {},
   "source": [
    "## (i) Find the average participation rate and contribution rate in the sample of plans"
   ]
  },
  {
   "cell_type": "code",
   "execution_count": 3,
   "id": "8d0b443e",
   "metadata": {},
   "outputs": [
    {
     "name": "stdout",
     "output_type": "stream",
     "text": [
      "Average participation rate (avg_prate): 87.36\n",
      "Average plan generosity (avg_mrate): 0.73\n"
     ]
    }
   ],
   "source": [
    "# Average participation rate\n",
    "avg_prate = df['prate'].mean()\n",
    "\n",
    "# Average plan generosity (contribution matching rate)\n",
    "avg_mrate = df['mrate'].mean()\n",
    "\n",
    "print(f\"Average participation rate (avg_prate): {avg_prate:.2f}\")\n",
    "print(f\"Average plan generosity (avg_mrate): {avg_mrate:.2f}\")"
   ]
  },
  {
   "cell_type": "markdown",
   "id": "cfb8c99f",
   "metadata": {},
   "source": [
    "## (ii) Simple regression"
   ]
  },
  {
   "attachments": {
    "image.png": {
     "image/png": "[encoded data removed]"
    }
   },
   "cell_type": "markdown",
   "id": "cb129151",
   "metadata": {},
   "source": [
    "![image.png](attachment:image.png)"
   ]
  },
  {
   "cell_type": "code",
   "execution_count": 4,
   "id": "9566fd25",
   "metadata": {},
   "outputs": [
    {
     "name": "stdout",
     "output_type": "stream",
     "text": [
      "                            OLS Regression Results                            \n",
      "==============================================================================\n",
      "Dep. Variable:                  prate   R-squared:                       0.075\n",
      "Model:                            OLS   Adj. R-squared:                  0.074\n",
      "Method:                 Least Squares   F-statistic:                     123.7\n",
      "Date:                Mon, 08 Sep 2025   Prob (F-statistic):           1.10e-27\n",
      "Time:                        15:32:52   Log-Likelihood:                -6437.0\n",
      "No. Observations:                1534   AIC:                         1.288e+04\n",
      "Df Residuals:                    1532   BIC:                         1.289e+04\n",
      "Df Model:                           1                                         \n",
      "Covariance Type:            nonrobust                                         \n",
      "==============================================================================\n",
      "                 coef    std err          t      P>|t|      [0.025      0.975]\n",
      "------------------------------------------------------------------------------\n",
      "const         83.0755      0.563    147.484      0.000      81.971      84.180\n",
      "mrate          5.8611      0.527     11.121      0.000       4.827       6.895\n",
      "==============================================================================\n",
      "Omnibus:                      394.767   Durbin-Watson:                   1.908\n",
      "Prob(Omnibus):                  0.000   Jarque-Bera (JB):              870.172\n",
      "Skew:                          -1.444   Prob(JB):                    1.11e-189\n",
      "Kurtosis:                       5.296   Cond. No.                         2.32\n",
      "==============================================================================\n",
      "\n",
      "Notes:\n",
      "[1] Standard Errors assume that the covariance matrix of the errors is correctly specified.\n"
     ]
    }
   ],
   "source": [
    "# Dependent variable\n",
    "y = df['prate']\n",
    "\n",
    "# Independent variable + intercept\n",
    "X = sm.add_constant(df['mrate'])  # <-- call the function!\n",
    "\n",
    "# OLS regression\n",
    "model = sm.OLS(y, X).fit()\n",
    "\n",
    "# Show results\n",
    "print(model.summary())"
   ]
  },
  {
   "cell_type": "markdown",
   "id": "b7dcf41a",
   "metadata": {},
   "source": [
    "## (iii) Interpretation of the intercept and coefficient"
   ]
  },
  {
   "cell_type": "markdown",
   "id": "8e3f5104",
   "metadata": {},
   "source": [
    "Intercept (83.08): This is the expected participation rate when the contribution rate $mrate$ is zero. In other words, even if the plan does not offer a firm contribution, the expected average participation rate is 83.08%.\n",
    "\n",
    "$mrate$ coefficient (5.86): For each additional 1 percentage point in the contribution rate, the participation rate increases by 5.86 percentage points."
   ]
  },
  {
   "cell_type": "markdown",
   "id": "f569de1f",
   "metadata": {},
   "source": [
    "## (iv) Forecast when $mrate$ = 3.5"
   ]
  },
  {
   "cell_type": "code",
   "execution_count": 5,
   "id": "d7e9eab4",
   "metadata": {},
   "outputs": [
    {
     "name": "stdout",
     "output_type": "stream",
     "text": [
      "Predicted participation rate when matching = 3.5: 103.59%\n"
     ]
    }
   ],
   "source": [
    "pred_prate = model.predict([1, 3.5])[0]  # 1 for intercept\n",
    "print(f\"Predicted participation rate when matching = 3.5: {pred_prate:.2f}%\")"
   ]
  },
  {
   "cell_type": "markdown",
   "id": "fe90fb6a",
   "metadata": {},
   "source": [
    "The 103.59% prediction is unreasonable because prate cannot exceed 100%. This is because the linear model does not respect natural proportion constraints and because we are extrapolating beyond the observed range of mrate."
   ]
  },
  {
   "cell_type": "markdown",
   "id": "ece76b12",
   "metadata": {},
   "source": [
    "## (v) $prate$ variation explained by $mrate$"
   ]
  },
  {
   "cell_type": "markdown",
   "id": "f7811818",
   "metadata": {},
   "source": [
    "Only 7.5% of the variation in $prate$ is explained by $mrate$. Although there is a positive and statistically significant effect (t=11.12, p<0.001), most of the variation in participation (92.5%) is explained by other factors."
   ]
  }
 ],
 "metadata": {
  "kernelspec": {
   "display_name": "Python 3 (ipykernel)",
   "language": "python",
   "name": "python3"
  },
  "language_info": {
   "codemirror_mode": {
    "name": "ipython",
    "version": 3
   },
   "file_extension": ".py",
   "mimetype": "text/x-python",
   "name": "python",
   "nbconvert_exporter": "python",
   "pygments_lexer": "ipython3",
   "version": "3.11.5"
  }
 },
 "nbformat": 4,
 "nbformat_minor": 5
}
