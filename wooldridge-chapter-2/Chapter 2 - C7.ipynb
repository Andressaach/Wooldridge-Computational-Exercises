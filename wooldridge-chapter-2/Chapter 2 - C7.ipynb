{
 "cells": [
  {
   "cell_type": "markdown",
   "id": "ef0ddd45",
   "metadata": {},
   "source": [
    "## Import libraries"
   ]
  },
  {
   "cell_type": "code",
   "execution_count": 1,
   "id": "e5cd1adc",
   "metadata": {},
   "outputs": [],
   "source": [
    "import wooldridge as woo\n",
    "import pandas as pd\n",
    "import numpy as np\n",
    "import statsmodels.api as sm"
   ]
  },
  {
   "cell_type": "markdown",
   "id": "2926f0cf",
   "metadata": {},
   "source": [
    "## Load dataset"
   ]
  },
  {
   "cell_type": "code",
   "execution_count": 2,
   "id": "7005d830",
   "metadata": {},
   "outputs": [
    {
     "data": {
      "text/html": [
       "<div>\n",
       "<style scoped>\n",
       "    .dataframe tbody tr th:only-of-type {\n",
       "        vertical-align: middle;\n",
       "    }\n",
       "\n",
       "    .dataframe tbody tr th {\n",
       "        vertical-align: top;\n",
       "    }\n",
       "\n",
       "    .dataframe thead th {\n",
       "        text-align: right;\n",
       "    }\n",
       "</style>\n",
       "<table border=\"1\" class=\"dataframe\">\n",
       "  <thead>\n",
       "    <tr style=\"text-align: right;\">\n",
       "      <th></th>\n",
       "      <th>respond</th>\n",
       "      <th>gift</th>\n",
       "      <th>resplast</th>\n",
       "      <th>weekslast</th>\n",
       "      <th>propresp</th>\n",
       "      <th>mailsyear</th>\n",
       "      <th>giftlast</th>\n",
       "      <th>avggift</th>\n",
       "    </tr>\n",
       "  </thead>\n",
       "  <tbody>\n",
       "    <tr>\n",
       "      <th>0</th>\n",
       "      <td>0</td>\n",
       "      <td>0</td>\n",
       "      <td>0</td>\n",
       "      <td>143.000000</td>\n",
       "      <td>0.3</td>\n",
       "      <td>2.5</td>\n",
       "      <td>10</td>\n",
       "      <td>10.0</td>\n",
       "    </tr>\n",
       "    <tr>\n",
       "      <th>1</th>\n",
       "      <td>0</td>\n",
       "      <td>0</td>\n",
       "      <td>0</td>\n",
       "      <td>65.428574</td>\n",
       "      <td>0.3</td>\n",
       "      <td>2.5</td>\n",
       "      <td>10</td>\n",
       "      <td>10.0</td>\n",
       "    </tr>\n",
       "    <tr>\n",
       "      <th>2</th>\n",
       "      <td>0</td>\n",
       "      <td>0</td>\n",
       "      <td>1</td>\n",
       "      <td>13.142858</td>\n",
       "      <td>0.3</td>\n",
       "      <td>2.5</td>\n",
       "      <td>10</td>\n",
       "      <td>10.0</td>\n",
       "    </tr>\n",
       "    <tr>\n",
       "      <th>3</th>\n",
       "      <td>0</td>\n",
       "      <td>0</td>\n",
       "      <td>0</td>\n",
       "      <td>120.142860</td>\n",
       "      <td>0.3</td>\n",
       "      <td>2.5</td>\n",
       "      <td>10</td>\n",
       "      <td>10.0</td>\n",
       "    </tr>\n",
       "    <tr>\n",
       "      <th>4</th>\n",
       "      <td>1</td>\n",
       "      <td>10</td>\n",
       "      <td>0</td>\n",
       "      <td>103.857140</td>\n",
       "      <td>0.2</td>\n",
       "      <td>2.5</td>\n",
       "      <td>10</td>\n",
       "      <td>10.0</td>\n",
       "    </tr>\n",
       "  </tbody>\n",
       "</table>\n",
       "</div>"
      ],
      "text/plain": [
       "   respond  gift  resplast   weekslast  propresp  mailsyear  giftlast  avggift\n",
       "0        0     0         0  143.000000       0.3        2.5        10     10.0\n",
       "1        0     0         0   65.428574       0.3        2.5        10     10.0\n",
       "2        0     0         1   13.142858       0.3        2.5        10     10.0\n",
       "3        0     0         0  120.142860       0.3        2.5        10     10.0\n",
       "4        1    10         0  103.857140       0.2        2.5        10     10.0"
      ]
     },
     "execution_count": 2,
     "metadata": {},
     "output_type": "execute_result"
    }
   ],
   "source": [
    "df = woo.data(\"charity\")\n",
    "df.head()"
   ]
  },
  {
   "cell_type": "markdown",
   "id": "00a853b4",
   "metadata": {},
   "source": [
    "## (i) Average donation and % of people with gift = 0"
   ]
  },
  {
   "cell_type": "code",
   "execution_count": 3,
   "id": "a6082443",
   "metadata": {},
   "outputs": [
    {
     "name": "stdout",
     "output_type": "stream",
     "text": [
      "Average donation: 7.44 guilders\n",
      "Percentage of people with no donation: 60.00%\n"
     ]
    }
   ],
   "source": [
    "avg_gift = df['gift'].mean()\n",
    "pct_zero = (df['gift'] == 0).mean() * 100\n",
    "print(f\"Average donation: {avg_gift:.2f} guilders\")\n",
    "print(f\"Percentage of people with no donation: {pct_zero:.2f}%\")"
   ]
  },
  {
   "cell_type": "markdown",
   "id": "c6cf9b33",
   "metadata": {},
   "source": [
    "## (ii) Average, minimum and maximum number of mailings per year (mailsyear)"
   ]
  },
  {
   "cell_type": "code",
   "execution_count": 4,
   "id": "940c595a",
   "metadata": {},
   "outputs": [
    {
     "name": "stdout",
     "output_type": "stream",
     "text": [
      "Average mailings per year: 2.05\n",
      "Minimum mailings: 0.25, Maximum mailings: 3.5\n"
     ]
    }
   ],
   "source": [
    "avg_mails = df['mailsyear'].mean()\n",
    "min_mails = df['mailsyear'].min()\n",
    "max_mails = df['mailsyear'].max()\n",
    "print(f\"Average mailings per year: {avg_mails:.2f}\")\n",
    "print(f\"Minimum mailings: {min_mails}, Maximum mailings: {max_mails}\")"
   ]
  },
  {
   "cell_type": "markdown",
   "id": "4d69ea75",
   "metadata": {},
   "source": [
    "## (iii) Regression: $gift = β0 + β1*mailsyear + u$"
   ]
  },
  {
   "cell_type": "code",
   "execution_count": 5,
   "id": "6831abce",
   "metadata": {},
   "outputs": [
    {
     "name": "stdout",
     "output_type": "stream",
     "text": [
      "Regression results:\n",
      "                            OLS Regression Results                            \n",
      "==============================================================================\n",
      "Dep. Variable:                   gift   R-squared:                       0.014\n",
      "Model:                            OLS   Adj. R-squared:                  0.014\n",
      "Method:                 Least Squares   F-statistic:                     59.65\n",
      "Date:                Mon, 29 Sep 2025   Prob (F-statistic):           1.40e-14\n",
      "Time:                        16:34:34   Log-Likelihood:                -17602.\n",
      "No. Observations:                4268   AIC:                         3.521e+04\n",
      "Df Residuals:                    4266   BIC:                         3.522e+04\n",
      "Df Model:                           1                                         \n",
      "Covariance Type:            nonrobust                                         \n",
      "==============================================================================\n",
      "                 coef    std err          t      P>|t|      [0.025      0.975]\n",
      "------------------------------------------------------------------------------\n",
      "const          2.0141      0.739      2.724      0.006       0.564       3.464\n",
      "mailsyear      2.6495      0.343      7.723      0.000       1.977       3.322\n",
      "==============================================================================\n",
      "Omnibus:                     4951.411   Durbin-Watson:                   1.529\n",
      "Prob(Omnibus):                  0.000   Jarque-Bera (JB):           784986.187\n",
      "Skew:                           5.889   Prob(JB):                         0.00\n",
      "Kurtosis:                      68.387   Cond. No.                         8.34\n",
      "==============================================================================\n",
      "\n",
      "Notes:\n",
      "[1] Standard Errors assume that the covariance matrix of the errors is correctly specified.\n"
     ]
    }
   ],
   "source": [
    "X = sm.add_constant(df['mailsyear'])\n",
    "y = df['gift']\n",
    "model = sm.OLS(y, X).fit()\n",
    "print(\"Regression results:\")\n",
    "print(model.summary())"
   ]
  },
  {
   "cell_type": "markdown",
   "id": "04a00d95",
   "metadata": {},
   "source": [
    "## (iv) Interpretation of slope coefficient"
   ]
  },
  {
   "cell_type": "markdown",
   "id": "7a59711e",
   "metadata": {},
   "source": [
    "Each additional mailing increases average donations by 2.65 guilders.\n",
    "\n",
    "If each mailing costs 1 guilder, the expected net gain is beta1 - 1.\n",
    "\n",
    "However, this does not mean *every* mailing is profitable, since some people donate nothing or less than the mailing cost."
   ]
  },
  {
   "cell_type": "markdown",
   "id": "230cfbe6",
   "metadata": {},
   "source": [
    "## (v) Smallest predicted contribution"
   ]
  },
  {
   "cell_type": "code",
   "execution_count": 6,
   "id": "c006837e",
   "metadata": {},
   "outputs": [
    {
     "name": "stdout",
     "output_type": "stream",
     "text": [
      "Smallest predicted gift: 2.68 guilders\n"
     ]
    }
   ],
   "source": [
    "df['gift_pred'] = model.predict(X)\n",
    "min_pred = df['gift_pred'].min()\n",
    "print(f\"Smallest predicted gift: {min_pred:.2f} guilders\")"
   ]
  }
 ],
 "metadata": {
  "kernelspec": {
   "display_name": "Python 3 (ipykernel)",
   "language": "python",
   "name": "python3"
  },
  "language_info": {
   "codemirror_mode": {
    "name": "ipython",
    "version": 3
   },
   "file_extension": ".py",
   "mimetype": "text/x-python",
   "name": "python",
   "nbconvert_exporter": "python",
   "pygments_lexer": "ipython3",
   "version": "3.11.5"
  }
 },
 "nbformat": 4,
 "nbformat_minor": 5
}
