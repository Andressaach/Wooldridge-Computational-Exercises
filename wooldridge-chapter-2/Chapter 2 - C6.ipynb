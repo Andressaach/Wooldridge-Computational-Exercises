{
 "cells": [
  {
   "cell_type": "markdown",
   "id": "ef0ddd45",
   "metadata": {},
   "source": [
    "## Import libraries"
   ]
  },
  {
   "cell_type": "code",
   "execution_count": 1,
   "id": "e5cd1adc",
   "metadata": {},
   "outputs": [],
   "source": [
    "import wooldridge as woo\n",
    "import pandas as pd\n",
    "import numpy as np\n",
    "import statsmodels.api as sm"
   ]
  },
  {
   "cell_type": "markdown",
   "id": "2926f0cf",
   "metadata": {},
   "source": [
    "## Load dataset"
   ]
  },
  {
   "cell_type": "code",
   "execution_count": 2,
   "id": "7005d830",
   "metadata": {},
   "outputs": [
    {
     "data": {
      "text/html": [
       "<div>\n",
       "<style scoped>\n",
       "    .dataframe tbody tr th:only-of-type {\n",
       "        vertical-align: middle;\n",
       "    }\n",
       "\n",
       "    .dataframe tbody tr th {\n",
       "        vertical-align: top;\n",
       "    }\n",
       "\n",
       "    .dataframe thead th {\n",
       "        text-align: right;\n",
       "    }\n",
       "</style>\n",
       "<table border=\"1\" class=\"dataframe\">\n",
       "  <thead>\n",
       "    <tr style=\"text-align: right;\">\n",
       "      <th></th>\n",
       "      <th>lnchprg</th>\n",
       "      <th>enroll</th>\n",
       "      <th>staff</th>\n",
       "      <th>expend</th>\n",
       "      <th>salary</th>\n",
       "      <th>benefits</th>\n",
       "      <th>droprate</th>\n",
       "      <th>gradrate</th>\n",
       "      <th>math10</th>\n",
       "      <th>sci11</th>\n",
       "      <th>totcomp</th>\n",
       "      <th>ltotcomp</th>\n",
       "      <th>lexpend</th>\n",
       "      <th>lenroll</th>\n",
       "      <th>lstaff</th>\n",
       "      <th>bensal</th>\n",
       "      <th>lsalary</th>\n",
       "    </tr>\n",
       "  </thead>\n",
       "  <tbody>\n",
       "    <tr>\n",
       "      <th>0</th>\n",
       "      <td>1.4</td>\n",
       "      <td>1862</td>\n",
       "      <td>112.599998</td>\n",
       "      <td>5765</td>\n",
       "      <td>37498.0</td>\n",
       "      <td>7420</td>\n",
       "      <td>2.9</td>\n",
       "      <td>89.199997</td>\n",
       "      <td>56.400002</td>\n",
       "      <td>67.900002</td>\n",
       "      <td>44918.0</td>\n",
       "      <td>10.712594</td>\n",
       "      <td>8.659560</td>\n",
       "      <td>7.529407</td>\n",
       "      <td>4.723842</td>\n",
       "      <td>0.197877</td>\n",
       "      <td>10.532043</td>\n",
       "    </tr>\n",
       "    <tr>\n",
       "      <th>1</th>\n",
       "      <td>2.3</td>\n",
       "      <td>11355</td>\n",
       "      <td>101.199997</td>\n",
       "      <td>6601</td>\n",
       "      <td>48722.0</td>\n",
       "      <td>10370</td>\n",
       "      <td>1.3</td>\n",
       "      <td>91.400002</td>\n",
       "      <td>42.700001</td>\n",
       "      <td>65.300003</td>\n",
       "      <td>59092.0</td>\n",
       "      <td>10.986851</td>\n",
       "      <td>8.794976</td>\n",
       "      <td>9.337414</td>\n",
       "      <td>4.617099</td>\n",
       "      <td>0.212840</td>\n",
       "      <td>10.793886</td>\n",
       "    </tr>\n",
       "    <tr>\n",
       "      <th>2</th>\n",
       "      <td>2.7</td>\n",
       "      <td>7685</td>\n",
       "      <td>114.000000</td>\n",
       "      <td>6834</td>\n",
       "      <td>44541.0</td>\n",
       "      <td>7313</td>\n",
       "      <td>3.5</td>\n",
       "      <td>91.400002</td>\n",
       "      <td>43.799999</td>\n",
       "      <td>54.299999</td>\n",
       "      <td>51854.0</td>\n",
       "      <td>10.856188</td>\n",
       "      <td>8.829665</td>\n",
       "      <td>8.947025</td>\n",
       "      <td>4.736198</td>\n",
       "      <td>0.164186</td>\n",
       "      <td>10.704165</td>\n",
       "    </tr>\n",
       "    <tr>\n",
       "      <th>3</th>\n",
       "      <td>3.4</td>\n",
       "      <td>1148</td>\n",
       "      <td>85.400002</td>\n",
       "      <td>3586</td>\n",
       "      <td>31566.0</td>\n",
       "      <td>5989</td>\n",
       "      <td>3.6</td>\n",
       "      <td>86.599998</td>\n",
       "      <td>25.299999</td>\n",
       "      <td>60.000000</td>\n",
       "      <td>37555.0</td>\n",
       "      <td>10.533562</td>\n",
       "      <td>8.184793</td>\n",
       "      <td>7.045776</td>\n",
       "      <td>4.447346</td>\n",
       "      <td>0.189729</td>\n",
       "      <td>10.359836</td>\n",
       "    </tr>\n",
       "    <tr>\n",
       "      <th>4</th>\n",
       "      <td>3.4</td>\n",
       "      <td>1572</td>\n",
       "      <td>96.099998</td>\n",
       "      <td>3847</td>\n",
       "      <td>29781.0</td>\n",
       "      <td>5545</td>\n",
       "      <td>0.0</td>\n",
       "      <td>100.000000</td>\n",
       "      <td>15.300000</td>\n",
       "      <td>65.800003</td>\n",
       "      <td>35326.0</td>\n",
       "      <td>10.472375</td>\n",
       "      <td>8.255049</td>\n",
       "      <td>7.360104</td>\n",
       "      <td>4.565389</td>\n",
       "      <td>0.186193</td>\n",
       "      <td>10.301626</td>\n",
       "    </tr>\n",
       "  </tbody>\n",
       "</table>\n",
       "</div>"
      ],
      "text/plain": [
       "   lnchprg  enroll       staff  expend   salary  benefits  droprate  \\\n",
       "0      1.4    1862  112.599998    5765  37498.0      7420       2.9   \n",
       "1      2.3   11355  101.199997    6601  48722.0     10370       1.3   \n",
       "2      2.7    7685  114.000000    6834  44541.0      7313       3.5   \n",
       "3      3.4    1148   85.400002    3586  31566.0      5989       3.6   \n",
       "4      3.4    1572   96.099998    3847  29781.0      5545       0.0   \n",
       "\n",
       "     gradrate     math10      sci11  totcomp   ltotcomp   lexpend   lenroll  \\\n",
       "0   89.199997  56.400002  67.900002  44918.0  10.712594  8.659560  7.529407   \n",
       "1   91.400002  42.700001  65.300003  59092.0  10.986851  8.794976  9.337414   \n",
       "2   91.400002  43.799999  54.299999  51854.0  10.856188  8.829665  8.947025   \n",
       "3   86.599998  25.299999  60.000000  37555.0  10.533562  8.184793  7.045776   \n",
       "4  100.000000  15.300000  65.800003  35326.0  10.472375  8.255049  7.360104   \n",
       "\n",
       "     lstaff    bensal    lsalary  \n",
       "0  4.723842  0.197877  10.532043  \n",
       "1  4.617099  0.212840  10.793886  \n",
       "2  4.736198  0.164186  10.704165  \n",
       "3  4.447346  0.189729  10.359836  \n",
       "4  4.565389  0.186193  10.301626  "
      ]
     },
     "execution_count": 2,
     "metadata": {},
     "output_type": "execute_result"
    }
   ],
   "source": [
    "df = woo.data(\"meap93\")\n",
    "df.head()"
   ]
  },
  {
   "cell_type": "markdown",
   "id": "00a853b4",
   "metadata": {},
   "source": [
    "## (i) Effect of each additional dollar: constant or decreasing?"
   ]
  },
  {
   "cell_type": "markdown",
   "id": "ef3e1c9b",
   "metadata": {},
   "source": [
    "The effect of a percentage increase in spending is approximately constant, but the absolute effect decreases as spending increases."
   ]
  },
  {
   "cell_type": "markdown",
   "id": "37e24dfc",
   "metadata": {},
   "source": [
    "## (ii) Interpretation of 𝛽1/10 in a log-linear model"
   ]
  },
  {
   "cell_type": "markdown",
   "id": "a5aefc92",
   "metadata": {},
   "source": [
    "β1/10 represents the approximate increase in the math passing rate (in percentage points) associated with a 10% increase in expenditure per student."
   ]
  },
  {
   "cell_type": "markdown",
   "id": "42cfb8c8",
   "metadata": {},
   "source": [
    "## (iii) Estimate the log-linear model"
   ]
  },
  {
   "cell_type": "code",
   "execution_count": 3,
   "id": "bdf5c4e7",
   "metadata": {},
   "outputs": [
    {
     "ename": "NameError",
     "evalue": "name 'y' is not defined",
     "output_type": "error",
     "traceback": [
      "\u001b[1;31m---------------------------------------------------------------------------\u001b[0m",
      "\u001b[1;31mNameError\u001b[0m                                 Traceback (most recent call last)",
      "Cell \u001b[1;32mIn[3], line 4\u001b[0m\n\u001b[0;32m      2\u001b[0m df[\u001b[38;5;124m'\u001b[39m\u001b[38;5;124mlog_expend\u001b[39m\u001b[38;5;124m'\u001b[39m] \u001b[38;5;241m=\u001b[39m np\u001b[38;5;241m.\u001b[39mlog(df[\u001b[38;5;124m'\u001b[39m\u001b[38;5;124mexpend\u001b[39m\u001b[38;5;124m'\u001b[39m])\n\u001b[0;32m      3\u001b[0m X_log \u001b[38;5;241m=\u001b[39m sm\u001b[38;5;241m.\u001b[39madd_constant(df[\u001b[38;5;124m'\u001b[39m\u001b[38;5;124mlog_expend\u001b[39m\u001b[38;5;124m'\u001b[39m])\n\u001b[1;32m----> 4\u001b[0m log_model \u001b[38;5;241m=\u001b[39m sm\u001b[38;5;241m.\u001b[39mOLS(y, X_log)\u001b[38;5;241m.\u001b[39mfit()\n\u001b[0;32m      5\u001b[0m \u001b[38;5;28mprint\u001b[39m(log_model\u001b[38;5;241m.\u001b[39msummary())\n",
      "\u001b[1;31mNameError\u001b[0m: name 'y' is not defined"
     ]
    }
   ],
   "source": [
    "# Log-linear model - assumes diminishing returns\n",
    "df['log_expend'] = np.log(df['expend'])\n",
    "X_log = sm.add_constant(df['log_expend'])\n",
    "log_model = sm.OLS(y, X_log).fit()\n",
    "print(log_model.summary())"
   ]
  },
  {
   "attachments": {
    "image.png": {
     "image/png": "[encoded data removed]"
    }
   },
   "cell_type": "markdown",
   "id": "738948e8",
   "metadata": {},
   "source": [
    "![image.png](attachment:image.png)"
   ]
  },
  {
   "cell_type": "markdown",
   "id": "4291dd0b",
   "metadata": {},
   "source": [
    "Sample size: n=408\n",
    "\n",
    "R-squared: R2=0.03"
   ]
  },
  {
   "cell_type": "markdown",
   "id": "af217683",
   "metadata": {},
   "source": [
    "## (iv) Magnitude of the estimated effect"
   ]
  },
  {
   "attachments": {
    "image.png": {
     "image/png": "[encoded data removed]"
    }
   },
   "cell_type": "markdown",
   "id": "2de6032e",
   "metadata": {},
   "source": [
    "![image.png](attachment:image.png)"
   ]
  },
  {
   "cell_type": "markdown",
   "id": "f149d9ec",
   "metadata": {},
   "source": [
    "Interpretation: increasing expenditure per student by 10% is associated with an increase of ~1.12 percentage points in the math passing rate."
   ]
  },
  {
   "cell_type": "markdown",
   "id": "71a61a64",
   "metadata": {},
   "source": [
    "## (v) Concern about predicted values > 100"
   ]
  },
  {
   "cell_type": "markdown",
   "id": "81b171f7",
   "metadata": {},
   "source": [
    "Most observed math10 values are well below 100%.\n",
    "\n",
    "The regression predicts reasonable fitted values within the observed range of expenditures.\n",
    "\n",
    "Extrapolation beyond the data range could produce values > 100%, but we are mostly interested in effects within the observed data, where this issue does not occur."
   ]
  }
 ],
 "metadata": {
  "kernelspec": {
   "display_name": "Python 3 (ipykernel)",
   "language": "python",
   "name": "python3"
  },
  "language_info": {
   "codemirror_mode": {
    "name": "ipython",
    "version": 3
   },
   "file_extension": ".py",
   "mimetype": "text/x-python",
   "name": "python",
   "nbconvert_exporter": "python",
   "pygments_lexer": "ipython3",
   "version": "3.11.5"
  }
 },
 "nbformat": 4,
 "nbformat_minor": 5
}
