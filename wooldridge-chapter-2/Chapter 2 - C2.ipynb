{
 "cells": [
  {
   "cell_type": "markdown",
   "id": "ef0ddd45",
   "metadata": {},
   "source": [
    "## Import libraries"
   ]
  },
  {
   "cell_type": "code",
   "execution_count": 1,
   "id": "e5cd1adc",
   "metadata": {},
   "outputs": [],
   "source": [
    "import wooldridge as woo\n",
    "import pandas as pd\n",
    "import numpy as np\n",
    "import statsmodels.api as sm"
   ]
  },
  {
   "cell_type": "markdown",
   "id": "2926f0cf",
   "metadata": {},
   "source": [
    "## Load dataset"
   ]
  },
  {
   "cell_type": "code",
   "execution_count": 2,
   "id": "7005d830",
   "metadata": {},
   "outputs": [
    {
     "data": {
      "text/html": [
       "<div>\n",
       "<style scoped>\n",
       "    .dataframe tbody tr th:only-of-type {\n",
       "        vertical-align: middle;\n",
       "    }\n",
       "\n",
       "    .dataframe tbody tr th {\n",
       "        vertical-align: top;\n",
       "    }\n",
       "\n",
       "    .dataframe thead th {\n",
       "        text-align: right;\n",
       "    }\n",
       "</style>\n",
       "<table border=\"1\" class=\"dataframe\">\n",
       "  <thead>\n",
       "    <tr style=\"text-align: right;\">\n",
       "      <th></th>\n",
       "      <th>salary</th>\n",
       "      <th>age</th>\n",
       "      <th>college</th>\n",
       "      <th>grad</th>\n",
       "      <th>comten</th>\n",
       "      <th>ceoten</th>\n",
       "      <th>sales</th>\n",
       "      <th>profits</th>\n",
       "      <th>mktval</th>\n",
       "      <th>lsalary</th>\n",
       "      <th>lsales</th>\n",
       "      <th>lmktval</th>\n",
       "      <th>comtensq</th>\n",
       "      <th>ceotensq</th>\n",
       "      <th>profmarg</th>\n",
       "    </tr>\n",
       "  </thead>\n",
       "  <tbody>\n",
       "    <tr>\n",
       "      <th>0</th>\n",
       "      <td>1161</td>\n",
       "      <td>49</td>\n",
       "      <td>1</td>\n",
       "      <td>1</td>\n",
       "      <td>9</td>\n",
       "      <td>2</td>\n",
       "      <td>6200.0</td>\n",
       "      <td>966</td>\n",
       "      <td>23200.0</td>\n",
       "      <td>7.057037</td>\n",
       "      <td>8.732305</td>\n",
       "      <td>10.051908</td>\n",
       "      <td>81</td>\n",
       "      <td>4</td>\n",
       "      <td>15.580646</td>\n",
       "    </tr>\n",
       "    <tr>\n",
       "      <th>1</th>\n",
       "      <td>600</td>\n",
       "      <td>43</td>\n",
       "      <td>1</td>\n",
       "      <td>1</td>\n",
       "      <td>10</td>\n",
       "      <td>10</td>\n",
       "      <td>283.0</td>\n",
       "      <td>48</td>\n",
       "      <td>1100.0</td>\n",
       "      <td>6.396930</td>\n",
       "      <td>5.645447</td>\n",
       "      <td>7.003066</td>\n",
       "      <td>100</td>\n",
       "      <td>100</td>\n",
       "      <td>16.961130</td>\n",
       "    </tr>\n",
       "    <tr>\n",
       "      <th>2</th>\n",
       "      <td>379</td>\n",
       "      <td>51</td>\n",
       "      <td>1</td>\n",
       "      <td>1</td>\n",
       "      <td>9</td>\n",
       "      <td>3</td>\n",
       "      <td>169.0</td>\n",
       "      <td>40</td>\n",
       "      <td>1100.0</td>\n",
       "      <td>5.937536</td>\n",
       "      <td>5.129899</td>\n",
       "      <td>7.003066</td>\n",
       "      <td>81</td>\n",
       "      <td>9</td>\n",
       "      <td>23.668638</td>\n",
       "    </tr>\n",
       "    <tr>\n",
       "      <th>3</th>\n",
       "      <td>651</td>\n",
       "      <td>55</td>\n",
       "      <td>1</td>\n",
       "      <td>0</td>\n",
       "      <td>22</td>\n",
       "      <td>22</td>\n",
       "      <td>1100.0</td>\n",
       "      <td>-54</td>\n",
       "      <td>1000.0</td>\n",
       "      <td>6.478509</td>\n",
       "      <td>7.003066</td>\n",
       "      <td>6.907755</td>\n",
       "      <td>484</td>\n",
       "      <td>484</td>\n",
       "      <td>-4.909091</td>\n",
       "    </tr>\n",
       "    <tr>\n",
       "      <th>4</th>\n",
       "      <td>497</td>\n",
       "      <td>44</td>\n",
       "      <td>1</td>\n",
       "      <td>1</td>\n",
       "      <td>8</td>\n",
       "      <td>6</td>\n",
       "      <td>351.0</td>\n",
       "      <td>28</td>\n",
       "      <td>387.0</td>\n",
       "      <td>6.208590</td>\n",
       "      <td>5.860786</td>\n",
       "      <td>5.958425</td>\n",
       "      <td>64</td>\n",
       "      <td>36</td>\n",
       "      <td>7.977208</td>\n",
       "    </tr>\n",
       "  </tbody>\n",
       "</table>\n",
       "</div>"
      ],
      "text/plain": [
       "   salary  age  college  grad  comten  ceoten   sales  profits   mktval  \\\n",
       "0    1161   49        1     1       9       2  6200.0      966  23200.0   \n",
       "1     600   43        1     1      10      10   283.0       48   1100.0   \n",
       "2     379   51        1     1       9       3   169.0       40   1100.0   \n",
       "3     651   55        1     0      22      22  1100.0      -54   1000.0   \n",
       "4     497   44        1     1       8       6   351.0       28    387.0   \n",
       "\n",
       "    lsalary    lsales    lmktval  comtensq  ceotensq   profmarg  \n",
       "0  7.057037  8.732305  10.051908        81         4  15.580646  \n",
       "1  6.396930  5.645447   7.003066       100       100  16.961130  \n",
       "2  5.937536  5.129899   7.003066        81         9  23.668638  \n",
       "3  6.478509  7.003066   6.907755       484       484  -4.909091  \n",
       "4  6.208590  5.860786   5.958425        64        36   7.977208  "
      ]
     },
     "execution_count": 2,
     "metadata": {},
     "output_type": "execute_result"
    }
   ],
   "source": [
    "df = woo.data(\"ceosal2\")\n",
    "df.head()"
   ]
  },
  {
   "cell_type": "markdown",
   "id": "fea80014",
   "metadata": {},
   "source": [
    "## (i) Average $salary$ and average $ceoten$"
   ]
  },
  {
   "cell_type": "code",
   "execution_count": 3,
   "id": "ec804d3c",
   "metadata": {},
   "outputs": [
    {
     "name": "stdout",
     "output_type": "stream",
     "text": [
      "Average salary: 865.86 thousand dollars\n",
      "Average years as CEO: 7.95\n"
     ]
    }
   ],
   "source": [
    "# Mean salary (in thousands of dollars)\n",
    "avg_salary = df['salary'].mean()\n",
    "\n",
    "# Mean years as CEO\n",
    "avg_ceoten = df['ceoten'].mean()\n",
    "\n",
    "print(f\"Average salary: {avg_salary:.2f} thousand dollars\")\n",
    "print(f\"Average years as CEO: {avg_ceoten:.2f}\")"
   ]
  },
  {
   "cell_type": "markdown",
   "id": "3e7b53a2",
   "metadata": {},
   "source": [
    "## (ii) CEOs in the first year and maximum tenure"
   ]
  },
  {
   "cell_type": "code",
   "execution_count": 4,
   "id": "4ee3389e",
   "metadata": {},
   "outputs": [
    {
     "name": "stdout",
     "output_type": "stream",
     "text": [
      "Number of CEOs in their first year: 5\n",
      "Maximum tenure as CEO: 37 years\n"
     ]
    }
   ],
   "source": [
    "# Number of CEOs in their first year\n",
    "first_year_ceos = (df['ceoten'] == 0).sum()\n",
    "\n",
    "# Maximum tenure as CEO\n",
    "max_ceoten = df['ceoten'].max()\n",
    "\n",
    "print(f\"Number of CEOs in their first year: {first_year_ceos}\")\n",
    "print(f\"Maximum tenure as CEO: {max_ceoten} years\")\n"
   ]
  },
  {
   "cell_type": "markdown",
   "id": "38259645",
   "metadata": {},
   "source": [
    "## (iii) Simple regression: log($salary$) ~ $ceoten$"
   ]
  },
  {
   "cell_type": "code",
   "execution_count": 5,
   "id": "f467df3b",
   "metadata": {},
   "outputs": [
    {
     "name": "stdout",
     "output_type": "stream",
     "text": [
      "                            OLS Regression Results                            \n",
      "==============================================================================\n",
      "Dep. Variable:                 salary   R-squared:                       0.013\n",
      "Model:                            OLS   Adj. R-squared:                  0.008\n",
      "Method:                 Least Squares   F-statistic:                     2.334\n",
      "Date:                Tue, 09 Sep 2025   Prob (F-statistic):              0.128\n",
      "Time:                        15:09:44   Log-Likelihood:                -160.84\n",
      "No. Observations:                 177   AIC:                             325.7\n",
      "Df Residuals:                     175   BIC:                             332.0\n",
      "Df Model:                           1                                         \n",
      "Covariance Type:            nonrobust                                         \n",
      "==============================================================================\n",
      "                 coef    std err          t      P>|t|      [0.025      0.975]\n",
      "------------------------------------------------------------------------------\n",
      "const          6.5055      0.068     95.682      0.000       6.371       6.640\n",
      "ceoten         0.0097      0.006      1.528      0.128      -0.003       0.022\n",
      "==============================================================================\n",
      "Omnibus:                        3.858   Durbin-Watson:                   2.084\n",
      "Prob(Omnibus):                  0.145   Jarque-Bera (JB):                3.907\n",
      "Skew:                          -0.189   Prob(JB):                        0.142\n",
      "Kurtosis:                       3.622   Cond. No.                         16.1\n",
      "==============================================================================\n",
      "\n",
      "Notes:\n",
      "[1] Standard Errors assume that the covariance matrix of the errors is correctly specified.\n"
     ]
    }
   ],
   "source": [
    "# Dependent variable: log of salary\n",
    "y = np.log(df['salary'])\n",
    "\n",
    "# Independent variable: ceoten\n",
    "X = sm.add_constant(df['ceoten'])\n",
    "\n",
    "# OLS regression\n",
    "model = sm.OLS(y, X).fit()\n",
    "\n",
    "print(model.summary())"
   ]
  },
  {
   "cell_type": "markdown",
   "id": "deb9b628",
   "metadata": {},
   "source": [
    "The model suggests that each additional year as CEO increases salary by about 1%, but this relationship is not statistically significant (P>|t| = \n",
    "0.128).\n",
    "\n",
    "Tenure alone does not explain CEO salaries well in this sample."
   ]
  }
 ],
 "metadata": {
  "kernelspec": {
   "display_name": "Python 3 (ipykernel)",
   "language": "python",
   "name": "python3"
  },
  "language_info": {
   "codemirror_mode": {
    "name": "ipython",
    "version": 3
   },
   "file_extension": ".py",
   "mimetype": "text/x-python",
   "name": "python",
   "nbconvert_exporter": "python",
   "pygments_lexer": "ipython3",
   "version": "3.11.5"
  }
 },
 "nbformat": 4,
 "nbformat_minor": 5
}
