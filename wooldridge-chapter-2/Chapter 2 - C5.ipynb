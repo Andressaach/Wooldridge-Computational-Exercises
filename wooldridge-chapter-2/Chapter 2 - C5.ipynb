{
 "cells": [
  {
   "cell_type": "markdown",
   "id": "ef0ddd45",
   "metadata": {},
   "source": [
    "## Import libraries"
   ]
  },
  {
   "cell_type": "code",
   "execution_count": 1,
   "id": "e5cd1adc",
   "metadata": {},
   "outputs": [],
   "source": [
    "import wooldridge as woo\n",
    "import pandas as pd\n",
    "import numpy as np\n",
    "import statsmodels.api as sm"
   ]
  },
  {
   "cell_type": "markdown",
   "id": "2926f0cf",
   "metadata": {},
   "source": [
    "## Load dataset"
   ]
  },
  {
   "cell_type": "code",
   "execution_count": 2,
   "id": "7005d830",
   "metadata": {},
   "outputs": [
    {
     "data": {
      "text/html": [
       "<div>\n",
       "<style scoped>\n",
       "    .dataframe tbody tr th:only-of-type {\n",
       "        vertical-align: middle;\n",
       "    }\n",
       "\n",
       "    .dataframe tbody tr th {\n",
       "        vertical-align: top;\n",
       "    }\n",
       "\n",
       "    .dataframe thead th {\n",
       "        text-align: right;\n",
       "    }\n",
       "</style>\n",
       "<table border=\"1\" class=\"dataframe\">\n",
       "  <thead>\n",
       "    <tr style=\"text-align: right;\">\n",
       "      <th></th>\n",
       "      <th>rd</th>\n",
       "      <th>sales</th>\n",
       "      <th>profits</th>\n",
       "      <th>rdintens</th>\n",
       "      <th>profmarg</th>\n",
       "      <th>salessq</th>\n",
       "      <th>lsales</th>\n",
       "      <th>lrd</th>\n",
       "    </tr>\n",
       "  </thead>\n",
       "  <tbody>\n",
       "    <tr>\n",
       "      <th>0</th>\n",
       "      <td>430.600006</td>\n",
       "      <td>4570.200195</td>\n",
       "      <td>186.899994</td>\n",
       "      <td>9.421906</td>\n",
       "      <td>4.089536</td>\n",
       "      <td>2.088673e+07</td>\n",
       "      <td>8.427312</td>\n",
       "      <td>6.065180</td>\n",
       "    </tr>\n",
       "    <tr>\n",
       "      <th>1</th>\n",
       "      <td>59.000000</td>\n",
       "      <td>2830.000000</td>\n",
       "      <td>467.000000</td>\n",
       "      <td>2.084806</td>\n",
       "      <td>16.501766</td>\n",
       "      <td>8.008900e+06</td>\n",
       "      <td>7.948032</td>\n",
       "      <td>4.077538</td>\n",
       "    </tr>\n",
       "    <tr>\n",
       "      <th>2</th>\n",
       "      <td>23.500000</td>\n",
       "      <td>596.799988</td>\n",
       "      <td>107.400002</td>\n",
       "      <td>3.937668</td>\n",
       "      <td>17.995979</td>\n",
       "      <td>3.561702e+05</td>\n",
       "      <td>6.391582</td>\n",
       "      <td>3.157000</td>\n",
       "    </tr>\n",
       "    <tr>\n",
       "      <th>3</th>\n",
       "      <td>3.500000</td>\n",
       "      <td>133.600006</td>\n",
       "      <td>-4.300000</td>\n",
       "      <td>2.619760</td>\n",
       "      <td>-3.218563</td>\n",
       "      <td>1.784896e+04</td>\n",
       "      <td>4.894850</td>\n",
       "      <td>1.252763</td>\n",
       "    </tr>\n",
       "    <tr>\n",
       "      <th>4</th>\n",
       "      <td>1.700000</td>\n",
       "      <td>42.000000</td>\n",
       "      <td>8.000000</td>\n",
       "      <td>4.047619</td>\n",
       "      <td>19.047619</td>\n",
       "      <td>1.764000e+03</td>\n",
       "      <td>3.737670</td>\n",
       "      <td>0.530628</td>\n",
       "    </tr>\n",
       "  </tbody>\n",
       "</table>\n",
       "</div>"
      ],
      "text/plain": [
       "           rd        sales     profits  rdintens   profmarg       salessq  \\\n",
       "0  430.600006  4570.200195  186.899994  9.421906   4.089536  2.088673e+07   \n",
       "1   59.000000  2830.000000  467.000000  2.084806  16.501766  8.008900e+06   \n",
       "2   23.500000   596.799988  107.400002  3.937668  17.995979  3.561702e+05   \n",
       "3    3.500000   133.600006   -4.300000  2.619760  -3.218563  1.784896e+04   \n",
       "4    1.700000    42.000000    8.000000  4.047619  19.047619  1.764000e+03   \n",
       "\n",
       "     lsales       lrd  \n",
       "0  8.427312  6.065180  \n",
       "1  7.948032  4.077538  \n",
       "2  6.391582  3.157000  \n",
       "3  4.894850  1.252763  \n",
       "4  3.737670  0.530628  "
      ]
     },
     "execution_count": 2,
     "metadata": {},
     "output_type": "execute_result"
    }
   ],
   "source": [
    "df = woo.data(\"rdchem\")\n",
    "df.head()"
   ]
  },
  {
   "cell_type": "markdown",
   "id": "00a853b4",
   "metadata": {},
   "source": [
    "## (i) Theoretical model with constant elasticity"
   ]
  },
  {
   "attachments": {
    "image.png": {
     "image/png": "[encoded data removed]"
    }
   },
   "cell_type": "markdown",
   "id": "6a116a2c",
   "metadata": {},
   "source": [
    "![image.png](attachment:image.png)"
   ]
  },
  {
   "cell_type": "markdown",
   "id": "c561f849",
   "metadata": {},
   "source": [
    "β1 is the elasticity of $rd$ with respect to s$ales$.\n",
    "\n",
    "a 1% increase in $sales$ is associated, on average, with a β1% increase in $rd$ spending."
   ]
  },
  {
   "cell_type": "markdown",
   "id": "a07018e4",
   "metadata": {},
   "source": [
    "## (ii) Estimating the model with rdchem data"
   ]
  },
  {
   "cell_type": "code",
   "execution_count": 3,
   "id": "1719a9ed",
   "metadata": {},
   "outputs": [
    {
     "name": "stdout",
     "output_type": "stream",
     "text": [
      "                            OLS Regression Results                            \n",
      "==============================================================================\n",
      "Dep. Variable:                  ln_rd   R-squared:                       0.910\n",
      "Model:                            OLS   Adj. R-squared:                  0.907\n",
      "Method:                 Least Squares   F-statistic:                     302.7\n",
      "Date:                Mon, 22 Sep 2025   Prob (F-statistic):           3.20e-17\n",
      "Time:                        16:15:26   Log-Likelihood:                -24.021\n",
      "No. Observations:                  32   AIC:                             52.04\n",
      "Df Residuals:                      30   BIC:                             54.97\n",
      "Df Model:                           1                                         \n",
      "Covariance Type:            nonrobust                                         \n",
      "==============================================================================\n",
      "                 coef    std err          t      P>|t|      [0.025      0.975]\n",
      "------------------------------------------------------------------------------\n",
      "const         -4.1047      0.453     -9.066      0.000      -5.029      -3.180\n",
      "ln_sales       1.0757      0.062     17.399      0.000       0.949       1.202\n",
      "==============================================================================\n",
      "Omnibus:                        1.407   Durbin-Watson:                   1.847\n",
      "Prob(Omnibus):                  0.495   Jarque-Bera (JB):                1.025\n",
      "Skew:                           0.139   Prob(JB):                        0.599\n",
      "Kurtosis:                       2.168   Cond. No.                         36.1\n",
      "==============================================================================\n",
      "\n",
      "Notes:\n",
      "[1] Standard Errors assume that the covariance matrix of the errors is correctly specified.\n",
      "Estimated elasticity of rd with respect to sales: 1.076\n"
     ]
    }
   ],
   "source": [
    "# Log transform\n",
    "df['ln_rd'] = np.log(df['rd'])\n",
    "df['ln_sales'] = np.log(df['sales'])\n",
    "\n",
    "# Define dependent and independent variables\n",
    "y = df['ln_rd']\n",
    "X = sm.add_constant(df['ln_sales'])\n",
    "\n",
    "# Estimate the log-log regression model\n",
    "model = sm.OLS(y, X).fit()\n",
    "\n",
    "# Print regression results\n",
    "print(model.summary())\n",
    "\n",
    "# Extract elasticity (coefficient on ln_sales)\n",
    "elasticity = model.params[\"ln_sales\"]\n",
    "print(f\"Estimated elasticity of rd with respect to sales: {elasticity:.3f}\")"
   ]
  },
  {
   "cell_type": "markdown",
   "id": "c4a69f31",
   "metadata": {},
   "source": [
    "This means that, other things being equal, a 1% increase in $sales$ is associated, on average, with a 1.076% increase in $rd$ spending."
   ]
  }
 ],
 "metadata": {
  "kernelspec": {
   "display_name": "Python 3 (ipykernel)",
   "language": "python",
   "name": "python3"
  },
  "language_info": {
   "codemirror_mode": {
    "name": "ipython",
    "version": 3
   },
   "file_extension": ".py",
   "mimetype": "text/x-python",
   "name": "python",
   "nbconvert_exporter": "python",
   "pygments_lexer": "ipython3",
   "version": "3.11.5"
  }
 },
 "nbformat": 4,
 "nbformat_minor": 5
}
