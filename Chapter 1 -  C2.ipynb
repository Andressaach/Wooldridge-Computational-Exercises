{
 "cells": [
  {
   "cell_type": "markdown",
   "id": "b780d8eb",
   "metadata": {},
   "source": [
    "## Import wooldridge library"
   ]
  },
  {
   "cell_type": "code",
   "execution_count": 1,
   "id": "b5445698",
   "metadata": {},
   "outputs": [],
   "source": [
    "import wooldridge as woo"
   ]
  },
  {
   "cell_type": "markdown",
   "id": "a021fd7d",
   "metadata": {},
   "source": [
    "## Load dataset"
   ]
  },
  {
   "cell_type": "code",
   "execution_count": 2,
   "id": "5d755b00",
   "metadata": {},
   "outputs": [
    {
     "data": {
      "text/html": [
       "<div>\n",
       "<style scoped>\n",
       "    .dataframe tbody tr th:only-of-type {\n",
       "        vertical-align: middle;\n",
       "    }\n",
       "\n",
       "    .dataframe tbody tr th {\n",
       "        vertical-align: top;\n",
       "    }\n",
       "\n",
       "    .dataframe thead th {\n",
       "        text-align: right;\n",
       "    }\n",
       "</style>\n",
       "<table border=\"1\" class=\"dataframe\">\n",
       "  <thead>\n",
       "    <tr style=\"text-align: right;\">\n",
       "      <th></th>\n",
       "      <th>faminc</th>\n",
       "      <th>cigtax</th>\n",
       "      <th>cigprice</th>\n",
       "      <th>bwght</th>\n",
       "      <th>fatheduc</th>\n",
       "      <th>motheduc</th>\n",
       "      <th>parity</th>\n",
       "      <th>male</th>\n",
       "      <th>white</th>\n",
       "      <th>cigs</th>\n",
       "      <th>lbwght</th>\n",
       "      <th>bwghtlbs</th>\n",
       "      <th>packs</th>\n",
       "      <th>lfaminc</th>\n",
       "    </tr>\n",
       "  </thead>\n",
       "  <tbody>\n",
       "    <tr>\n",
       "      <th>0</th>\n",
       "      <td>13.5</td>\n",
       "      <td>16.5</td>\n",
       "      <td>122.300003</td>\n",
       "      <td>109</td>\n",
       "      <td>12.0</td>\n",
       "      <td>12.0</td>\n",
       "      <td>1</td>\n",
       "      <td>1</td>\n",
       "      <td>1</td>\n",
       "      <td>0</td>\n",
       "      <td>4.691348</td>\n",
       "      <td>6.8125</td>\n",
       "      <td>0.0</td>\n",
       "      <td>2.602690</td>\n",
       "    </tr>\n",
       "    <tr>\n",
       "      <th>1</th>\n",
       "      <td>7.5</td>\n",
       "      <td>16.5</td>\n",
       "      <td>122.300003</td>\n",
       "      <td>133</td>\n",
       "      <td>6.0</td>\n",
       "      <td>12.0</td>\n",
       "      <td>2</td>\n",
       "      <td>1</td>\n",
       "      <td>0</td>\n",
       "      <td>0</td>\n",
       "      <td>4.890349</td>\n",
       "      <td>8.3125</td>\n",
       "      <td>0.0</td>\n",
       "      <td>2.014903</td>\n",
       "    </tr>\n",
       "    <tr>\n",
       "      <th>2</th>\n",
       "      <td>0.5</td>\n",
       "      <td>16.5</td>\n",
       "      <td>122.300003</td>\n",
       "      <td>129</td>\n",
       "      <td>NaN</td>\n",
       "      <td>12.0</td>\n",
       "      <td>2</td>\n",
       "      <td>0</td>\n",
       "      <td>0</td>\n",
       "      <td>0</td>\n",
       "      <td>4.859812</td>\n",
       "      <td>8.0625</td>\n",
       "      <td>0.0</td>\n",
       "      <td>-0.693147</td>\n",
       "    </tr>\n",
       "    <tr>\n",
       "      <th>3</th>\n",
       "      <td>15.5</td>\n",
       "      <td>16.5</td>\n",
       "      <td>122.300003</td>\n",
       "      <td>126</td>\n",
       "      <td>12.0</td>\n",
       "      <td>12.0</td>\n",
       "      <td>2</td>\n",
       "      <td>1</td>\n",
       "      <td>0</td>\n",
       "      <td>0</td>\n",
       "      <td>4.836282</td>\n",
       "      <td>7.8750</td>\n",
       "      <td>0.0</td>\n",
       "      <td>2.740840</td>\n",
       "    </tr>\n",
       "    <tr>\n",
       "      <th>4</th>\n",
       "      <td>27.5</td>\n",
       "      <td>16.5</td>\n",
       "      <td>122.300003</td>\n",
       "      <td>134</td>\n",
       "      <td>14.0</td>\n",
       "      <td>12.0</td>\n",
       "      <td>2</td>\n",
       "      <td>1</td>\n",
       "      <td>1</td>\n",
       "      <td>0</td>\n",
       "      <td>4.897840</td>\n",
       "      <td>8.3750</td>\n",
       "      <td>0.0</td>\n",
       "      <td>3.314186</td>\n",
       "    </tr>\n",
       "  </tbody>\n",
       "</table>\n",
       "</div>"
      ],
      "text/plain": [
       "   faminc  cigtax    cigprice  bwght  fatheduc  motheduc  parity  male  white  \\\n",
       "0    13.5    16.5  122.300003    109      12.0      12.0       1     1      1   \n",
       "1     7.5    16.5  122.300003    133       6.0      12.0       2     1      0   \n",
       "2     0.5    16.5  122.300003    129       NaN      12.0       2     0      0   \n",
       "3    15.5    16.5  122.300003    126      12.0      12.0       2     1      0   \n",
       "4    27.5    16.5  122.300003    134      14.0      12.0       2     1      1   \n",
       "\n",
       "   cigs    lbwght  bwghtlbs  packs   lfaminc  \n",
       "0     0  4.691348    6.8125    0.0  2.602690  \n",
       "1     0  4.890349    8.3125    0.0  2.014903  \n",
       "2     0  4.859812    8.0625    0.0 -0.693147  \n",
       "3     0  4.836282    7.8750    0.0  2.740840  \n",
       "4     0  4.897840    8.3750    0.0  3.314186  "
      ]
     },
     "execution_count": 2,
     "metadata": {},
     "output_type": "execute_result"
    }
   ],
   "source": [
    "df = woo.data('bwght')\n",
    "df.head()"
   ]
  },
  {
   "cell_type": "markdown",
   "id": "b0c99196",
   "metadata": {},
   "source": [
    "## (i) How many women are in the sample and how many reported smoking during pregnancy?"
   ]
  },
  {
   "cell_type": "code",
   "execution_count": 3,
   "id": "8255f610",
   "metadata": {},
   "outputs": [
    {
     "name": "stdout",
     "output_type": "stream",
     "text": [
      "Total number of women in the sample: 1388\n",
      "Number of women who smoked during pregnancy: 212\n"
     ]
    }
   ],
   "source": [
    "# Count the total number of women in the sample\n",
    "n_total = df.shape[0]\n",
    "\n",
    "# Count how many women reported smoking during pregnancy (cigs > 0)\n",
    "n_smokers = (df['cigs'] > 0).sum()\n",
    "\n",
    "# Print results\n",
    "print(f\"Total number of women in the sample: {n_total}\")\n",
    "print(f\"Number of women who smoked during pregnancy: {n_smokers}\")"
   ]
  },
  {
   "cell_type": "markdown",
   "id": "15be9550",
   "metadata": {},
   "source": [
    "## (ii) What is the average number of cigarettes smoked per day?"
   ]
  },
  {
   "cell_type": "code",
   "execution_count": 4,
   "id": "5b3c3748",
   "metadata": {},
   "outputs": [
    {
     "name": "stdout",
     "output_type": "stream",
     "text": [
      "Average number of cigarettes consumed per day: 2.09 cigarettes\n"
     ]
    }
   ],
   "source": [
    "#calculating the average number of cigarettes\n",
    "mean_cigs = df['cigs'].mean()\n",
    "\n",
    "# Display result\n",
    "print(f\"Average number of cigarettes consumed per day: {mean_cigs:.2f} cigarettes\")"
   ]
  },
  {
   "cell_type": "markdown",
   "id": "1f9adba3",
   "metadata": {},
   "source": [
    "## (iii) Among women who smoked during pregnancy, what is the average number of cigarettes smoked per day? How does this compare with the answer to item (ii)?"
   ]
  },
  {
   "cell_type": "code",
   "execution_count": 5,
   "id": "0d29f4a6",
   "metadata": {},
   "outputs": [
    {
     "name": "stdout",
     "output_type": "stream",
     "text": [
      "Average number of cigarettes smoked by women who reported smoking during pregnancy per day: 13.67\n",
      "Difference from the overall average of 'cigs': -11.58\n"
     ]
    }
   ],
   "source": [
    "mean_cigs_smokers = df.loc[df['cigs'] > 0, 'cigs'].mean()\n",
    "\n",
    "print(f\"Average number of cigarettes smoked by women who reported smoking during pregnancy per day: {mean_cigs_smokers:.2f}\")\n",
    "print(f\"Difference from the overall average of 'cigs': {mean_cigs - mean_cigs_smokers:.2f}\")"
   ]
  },
  {
   "cell_type": "markdown",
   "id": "4b0a2551",
   "metadata": {},
   "source": [
    "Interpretation\n",
    "\n",
    "Overall average (ii): diluted because it includes many 0s (non-smokers).\n",
    "\n",
    "Average among smokers (iii): much higher, since it excludes those 0s.\n",
    "\n",
    "The comparison shows how misleading the overall mean can be if the sample has many non-smokers."
   ]
  },
  {
   "cell_type": "markdown",
   "id": "62b5221f",
   "metadata": {},
   "source": [
    "## (iv) Find the mean of 'fatheduc' in the sample. Why are only 1,192 observations used to calculate this mean?"
   ]
  },
  {
   "cell_type": "code",
   "execution_count": 6,
   "id": "b44b9c47",
   "metadata": {},
   "outputs": [
    {
     "name": "stdout",
     "output_type": "stream",
     "text": [
      "Average father's education (years): 13.19\n",
      "Number of observations used: 1192\n",
      "Total sample size: 1388\n",
      "Missing values in fatheduc: 196\n"
     ]
    }
   ],
   "source": [
    "# Calculate the average years of father's education (ignoring missing values by default)\n",
    "mean_fatheduc = df['fatheduc'].mean()\n",
    "\n",
    "# Count how many non-missing observations are used\n",
    "n_non_missing = df['fatheduc'].count()\n",
    "\n",
    "# Count total number of women in the sample\n",
    "n_total = df.shape[0]\n",
    "\n",
    "print(f\"Average father's education (years): {mean_fatheduc:.2f}\")\n",
    "print(f\"Number of observations used: {n_non_missing}\")\n",
    "print(f\"Total sample size: {n_total}\")\n",
    "print(f\"Missing values in fatheduc: {n_total - n_non_missing}\")"
   ]
  },
  {
   "cell_type": "markdown",
   "id": "4708fd5e",
   "metadata": {},
   "source": [
    "The .mean() function automatically excludes missing values (NaN).\n",
    "\n",
    "That’s why the average is calculated using 1,192 observations, not the full sample (≈1,388).\n",
    "\n",
    "The difference comes from mothers who did not report the father’s education, leaving missing values in fatheduc."
   ]
  }
 ],
 "metadata": {
  "kernelspec": {
   "display_name": "Python 3 (ipykernel)",
   "language": "python",
   "name": "python3"
  },
  "language_info": {
   "codemirror_mode": {
    "name": "ipython",
    "version": 3
   },
   "file_extension": ".py",
   "mimetype": "text/x-python",
   "name": "python",
   "nbconvert_exporter": "python",
   "pygments_lexer": "ipython3",
   "version": "3.11.5"
  }
 },
 "nbformat": 4,
 "nbformat_minor": 5
}
