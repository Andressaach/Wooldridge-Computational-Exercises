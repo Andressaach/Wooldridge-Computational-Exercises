{
 "cells": [
  {
   "cell_type": "markdown",
   "id": "26984341",
   "metadata": {},
   "source": [
    "## Import Wooldridge library\n"
   ]
  },
  {
   "cell_type": "code",
   "execution_count": 1,
   "id": "fa30e2db",
   "metadata": {},
   "outputs": [],
   "source": [
    "import wooldridge as woo"
   ]
  },
  {
   "cell_type": "markdown",
   "id": "1a79d455",
   "metadata": {},
   "source": [
    "## Load dataset"
   ]
  },
  {
   "cell_type": "code",
   "execution_count": 2,
   "id": "8be4bac8",
   "metadata": {},
   "outputs": [
    {
     "data": {
      "text/html": [
       "<div>\n",
       "<style scoped>\n",
       "    .dataframe tbody tr th:only-of-type {\n",
       "        vertical-align: middle;\n",
       "    }\n",
       "\n",
       "    .dataframe tbody tr th {\n",
       "        vertical-align: top;\n",
       "    }\n",
       "\n",
       "    .dataframe thead th {\n",
       "        text-align: right;\n",
       "    }\n",
       "</style>\n",
       "<table border=\"1\" class=\"dataframe\">\n",
       "  <thead>\n",
       "    <tr style=\"text-align: right;\">\n",
       "      <th></th>\n",
       "      <th>wage</th>\n",
       "      <th>educ</th>\n",
       "      <th>exper</th>\n",
       "      <th>tenure</th>\n",
       "      <th>nonwhite</th>\n",
       "      <th>female</th>\n",
       "      <th>married</th>\n",
       "      <th>numdep</th>\n",
       "      <th>smsa</th>\n",
       "      <th>northcen</th>\n",
       "      <th>...</th>\n",
       "      <th>trcommpu</th>\n",
       "      <th>trade</th>\n",
       "      <th>services</th>\n",
       "      <th>profserv</th>\n",
       "      <th>profocc</th>\n",
       "      <th>clerocc</th>\n",
       "      <th>servocc</th>\n",
       "      <th>lwage</th>\n",
       "      <th>expersq</th>\n",
       "      <th>tenursq</th>\n",
       "    </tr>\n",
       "  </thead>\n",
       "  <tbody>\n",
       "    <tr>\n",
       "      <th>0</th>\n",
       "      <td>3.10</td>\n",
       "      <td>11</td>\n",
       "      <td>2</td>\n",
       "      <td>0</td>\n",
       "      <td>0</td>\n",
       "      <td>1</td>\n",
       "      <td>0</td>\n",
       "      <td>2</td>\n",
       "      <td>1</td>\n",
       "      <td>0</td>\n",
       "      <td>...</td>\n",
       "      <td>0</td>\n",
       "      <td>0</td>\n",
       "      <td>0</td>\n",
       "      <td>0</td>\n",
       "      <td>0</td>\n",
       "      <td>0</td>\n",
       "      <td>0</td>\n",
       "      <td>1.131402</td>\n",
       "      <td>4</td>\n",
       "      <td>0</td>\n",
       "    </tr>\n",
       "    <tr>\n",
       "      <th>1</th>\n",
       "      <td>3.24</td>\n",
       "      <td>12</td>\n",
       "      <td>22</td>\n",
       "      <td>2</td>\n",
       "      <td>0</td>\n",
       "      <td>1</td>\n",
       "      <td>1</td>\n",
       "      <td>3</td>\n",
       "      <td>1</td>\n",
       "      <td>0</td>\n",
       "      <td>...</td>\n",
       "      <td>0</td>\n",
       "      <td>0</td>\n",
       "      <td>1</td>\n",
       "      <td>0</td>\n",
       "      <td>0</td>\n",
       "      <td>0</td>\n",
       "      <td>1</td>\n",
       "      <td>1.175573</td>\n",
       "      <td>484</td>\n",
       "      <td>4</td>\n",
       "    </tr>\n",
       "    <tr>\n",
       "      <th>2</th>\n",
       "      <td>3.00</td>\n",
       "      <td>11</td>\n",
       "      <td>2</td>\n",
       "      <td>0</td>\n",
       "      <td>0</td>\n",
       "      <td>0</td>\n",
       "      <td>0</td>\n",
       "      <td>2</td>\n",
       "      <td>0</td>\n",
       "      <td>0</td>\n",
       "      <td>...</td>\n",
       "      <td>0</td>\n",
       "      <td>1</td>\n",
       "      <td>0</td>\n",
       "      <td>0</td>\n",
       "      <td>0</td>\n",
       "      <td>0</td>\n",
       "      <td>0</td>\n",
       "      <td>1.098612</td>\n",
       "      <td>4</td>\n",
       "      <td>0</td>\n",
       "    </tr>\n",
       "    <tr>\n",
       "      <th>3</th>\n",
       "      <td>6.00</td>\n",
       "      <td>8</td>\n",
       "      <td>44</td>\n",
       "      <td>28</td>\n",
       "      <td>0</td>\n",
       "      <td>0</td>\n",
       "      <td>1</td>\n",
       "      <td>0</td>\n",
       "      <td>1</td>\n",
       "      <td>0</td>\n",
       "      <td>...</td>\n",
       "      <td>0</td>\n",
       "      <td>0</td>\n",
       "      <td>0</td>\n",
       "      <td>0</td>\n",
       "      <td>0</td>\n",
       "      <td>1</td>\n",
       "      <td>0</td>\n",
       "      <td>1.791759</td>\n",
       "      <td>1936</td>\n",
       "      <td>784</td>\n",
       "    </tr>\n",
       "    <tr>\n",
       "      <th>4</th>\n",
       "      <td>5.30</td>\n",
       "      <td>12</td>\n",
       "      <td>7</td>\n",
       "      <td>2</td>\n",
       "      <td>0</td>\n",
       "      <td>0</td>\n",
       "      <td>1</td>\n",
       "      <td>1</td>\n",
       "      <td>0</td>\n",
       "      <td>0</td>\n",
       "      <td>...</td>\n",
       "      <td>0</td>\n",
       "      <td>0</td>\n",
       "      <td>0</td>\n",
       "      <td>0</td>\n",
       "      <td>0</td>\n",
       "      <td>0</td>\n",
       "      <td>0</td>\n",
       "      <td>1.667707</td>\n",
       "      <td>49</td>\n",
       "      <td>4</td>\n",
       "    </tr>\n",
       "  </tbody>\n",
       "</table>\n",
       "<p>5 rows × 24 columns</p>\n",
       "</div>"
      ],
      "text/plain": [
       "   wage  educ  exper  tenure  nonwhite  female  married  numdep  smsa  \\\n",
       "0  3.10    11      2       0         0       1        0       2     1   \n",
       "1  3.24    12     22       2         0       1        1       3     1   \n",
       "2  3.00    11      2       0         0       0        0       2     0   \n",
       "3  6.00     8     44      28         0       0        1       0     1   \n",
       "4  5.30    12      7       2         0       0        1       1     0   \n",
       "\n",
       "   northcen  ...  trcommpu  trade  services  profserv  profocc  clerocc  \\\n",
       "0         0  ...         0      0         0         0        0        0   \n",
       "1         0  ...         0      0         1         0        0        0   \n",
       "2         0  ...         0      1         0         0        0        0   \n",
       "3         0  ...         0      0         0         0        0        1   \n",
       "4         0  ...         0      0         0         0        0        0   \n",
       "\n",
       "   servocc     lwage  expersq  tenursq  \n",
       "0        0  1.131402        4        0  \n",
       "1        1  1.175573      484        4  \n",
       "2        0  1.098612        4        0  \n",
       "3        0  1.791759     1936      784  \n",
       "4        0  1.667707       49        4  \n",
       "\n",
       "[5 rows x 24 columns]"
      ]
     },
     "execution_count": 2,
     "metadata": {},
     "output_type": "execute_result"
    }
   ],
   "source": [
    "df = woo.data('wage1')\n",
    "df.head()"
   ]
  },
  {
   "cell_type": "markdown",
   "id": "71fbd01a",
   "metadata": {},
   "source": [
    "## (i) find the average educational level of the sample, lowest values and highest values of years of education\n"
   ]
  },
  {
   "cell_type": "code",
   "execution_count": 3,
   "id": "adbdf89c",
   "metadata": {},
   "outputs": [
    {
     "name": "stdout",
     "output_type": "stream",
     "text": [
      "Average educational level: 12.56 years\n",
      "Lowest value (years of education): 0\n",
      "Highest value (years of education): 18\n"
     ]
    }
   ],
   "source": [
    "# Statistics for the 'educ' variable\n",
    "mean_educ = df['educ'].mean()\n",
    "min_educ = df['educ'].min()\n",
    "max_educ = df['educ'].max()\n",
    "\n",
    "# Display results\n",
    "print(f\"Average educational level: {mean_educ:.2f} years\")\n",
    "print(f\"Lowest value (years of education): {min_educ}\")\n",
    "print(f\"Highest value (years of education): {max_educ}\")"
   ]
  },
  {
   "cell_type": "markdown",
   "id": "109e9891",
   "metadata": {},
   "source": [
    "## (ii) compute the average hourly wage (wage)"
   ]
  },
  {
   "cell_type": "code",
   "execution_count": 4,
   "id": "253c9357",
   "metadata": {},
   "outputs": [
    {
     "name": "stdout",
     "output_type": "stream",
     "text": [
      "Average hourly wage: $5.90\n"
     ]
    }
   ],
   "source": [
    "# Compute the average hourly wage\n",
    "mean_wage = df['wage'].mean()\n",
    "\n",
    "# Display result\n",
    "print(f\"Average hourly wage: ${mean_wage:.2f}\")"
   ]
  },
  {
   "cell_type": "markdown",
   "id": "e537c1dd",
   "metadata": {},
   "source": [
    "## (iii) - (iv) Use the CPI values (1976 and 2013) to find the average hourly wage (reported in 1976 dollars) in 2013 dollars.\n"
   ]
  },
  {
   "cell_type": "code",
   "execution_count": 5,
   "id": "bf9ab78a",
   "metadata": {},
   "outputs": [
    {
     "name": "stdout",
     "output_type": "stream",
     "text": [
      "Mean hourly wage (1976 $): $5.90\n",
      "CPI 1976: 56.9, CPI 2013: 232.957\n",
      "Inflation factor (2013/1976): 4.094\n",
      "Mean hourly wage in 2013 $: $24.14\n"
     ]
    }
   ],
   "source": [
    "# Source: BLS Historical CPI-U table (annual averages)\n",
    "CPI_1976 = 56.9\n",
    "CPI_2013 = 232.957\n",
    "\n",
    "# Inflate 1976 wages to 2013 dollars\n",
    "inflation_factor = CPI_2013 / CPI_1976\n",
    "mean_wage_2013 = mean_wage * inflation_factor\n",
    "\n",
    "# Print results\n",
    "print(f\"Mean hourly wage (1976 $): ${mean_wage:.2f}\")\n",
    "print(f\"CPI 1976: {CPI_1976}, CPI 2013: {CPI_2013}\")\n",
    "print(f\"Inflation factor (2013/1976): {inflation_factor:.3f}\")\n",
    "print(f\"Mean hourly wage in 2013 $: ${mean_wage_2013:.2f}\")"
   ]
  },
  {
   "attachments": {
    "image.png": {
     "image/png": "[encoded data removed]"
    }
   },
   "cell_type": "markdown",
   "id": "09f9e004",
   "metadata": {},
   "source": [
    "![image.png](attachment:image.png)"
   ]
  },
  {
   "attachments": {
    "image-2.png": {
     "image/png": "[encoded data removed]"
    }
   },
   "cell_type": "markdown",
   "id": "ce2627c1",
   "metadata": {},
   "source": [
    "![image-2.png](attachment:image-2.png)"
   ]
  },
  {
   "cell_type": "markdown",
   "id": "86bf413e",
   "metadata": {},
   "source": [
    "## (v) count how many women and men are in the wage1 dataset"
   ]
  },
  {
   "cell_type": "code",
   "execution_count": 6,
   "id": "effb5fd1",
   "metadata": {},
   "outputs": [
    {
     "name": "stdout",
     "output_type": "stream",
     "text": [
      "Number of men: 274\n",
      "Number of women: 252\n"
     ]
    }
   ],
   "source": [
    "# 'female == 1' means woman, 'female == 0' means man\n",
    "counts = df['female'].value_counts()\n",
    "\n",
    "num_men = counts.get(0, 0)\n",
    "num_women = counts.get(1, 0)\n",
    "\n",
    "print(f\"Number of men: {num_men}\")\n",
    "print(f\"Number of women: {num_women}\")"
   ]
  }
 ],
 "metadata": {
  "kernelspec": {
   "display_name": "Python 3 (ipykernel)",
   "language": "python",
   "name": "python3"
  },
  "language_info": {
   "codemirror_mode": {
    "name": "ipython",
    "version": 3
   },
   "file_extension": ".py",
   "mimetype": "text/x-python",
   "name": "python",
   "nbconvert_exporter": "python",
   "pygments_lexer": "ipython3",
   "version": "3.11.5"
  }
 },
 "nbformat": 4,
 "nbformat_minor": 5
}
